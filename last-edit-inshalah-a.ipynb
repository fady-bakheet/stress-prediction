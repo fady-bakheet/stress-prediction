{
 "cells": [
  {
   "cell_type": "markdown",
   "id": "f088de82",
   "metadata": {
    "papermill": {
     "duration": 0.004607,
     "end_time": "2025-05-12T16:24:44.441403",
     "exception": false,
     "start_time": "2025-05-12T16:24:44.436796",
     "status": "completed"
    },
    "tags": []
   },
   "source": [
    "# Import necessary libraries and define configurations"
   ]
  },
  {
   "cell_type": "code",
   "execution_count": 1,
   "id": "3fb123af",
   "metadata": {
    "execution": {
     "iopub.execute_input": "2025-05-12T16:24:44.450331Z",
     "iopub.status.busy": "2025-05-12T16:24:44.450023Z",
     "iopub.status.idle": "2025-05-12T16:24:47.302657Z",
     "shell.execute_reply": "2025-05-12T16:24:47.301683Z"
    },
    "papermill": {
     "duration": 2.858985,
     "end_time": "2025-05-12T16:24:47.304343",
     "exception": false,
     "start_time": "2025-05-12T16:24:44.445358",
     "status": "completed"
    },
    "tags": []
   },
   "outputs": [],
   "source": [
    "\n",
    "import os\n",
    "import pickle\n",
    "import numpy as np\n",
    "import pandas as pd\n",
    "from scipy.signal import butter, filtfilt, welch\n",
    "from scipy.stats import skew, kurtosis\n",
    "from sklearn.model_selection import train_test_split, GridSearchCV\n",
    "from sklearn.ensemble import RandomForestClassifier\n",
    "from sklearn.metrics import classification_report, accuracy_score, confusion_matrix, log_loss\n",
    "from imblearn.over_sampling import SMOTE\n",
    "from sklearn.preprocessing import StandardScaler\n",
    "import matplotlib.pyplot as plt\n",
    "import ipywidgets as widgets\n",
    "from IPython.display import display, HTML\n",
    "\n",
    "# Configurations\n",
    "DATASET_DIR = \"/kaggle/input/wesad-full-dataset/WESAD/\" \n",
    "TEST_SIZE = 0.3 \n",
    "WINDOW_SIZE = 80  \n",
    "FILTER_CUTOFF = 0.1  \n",
    "OVERLAB = 40\n",
    "MAX_TREES = 100  \n",
    "OUTPUT_DIR = \"/kaggle/working/outputs\"  "
   ]
  },
  {
   "cell_type": "markdown",
   "id": "36e402e3",
   "metadata": {
    "papermill": {
     "duration": 0.005489,
     "end_time": "2025-05-12T16:24:47.314217",
     "exception": false,
     "start_time": "2025-05-12T16:24:47.308728",
     "status": "completed"
    },
    "tags": []
   },
   "source": [
    "# Define helper functions for filtering and feature extraction"
   ]
  },
  {
   "cell_type": "code",
   "execution_count": 2,
   "id": "712cbdb6",
   "metadata": {
    "execution": {
     "iopub.execute_input": "2025-05-12T16:24:47.323350Z",
     "iopub.status.busy": "2025-05-12T16:24:47.322918Z",
     "iopub.status.idle": "2025-05-12T16:24:47.330448Z",
     "shell.execute_reply": "2025-05-12T16:24:47.329569Z"
    },
    "papermill": {
     "duration": 0.013785,
     "end_time": "2025-05-12T16:24:47.331749",
     "exception": false,
     "start_time": "2025-05-12T16:24:47.317964",
     "status": "completed"
    },
    "tags": []
   },
   "outputs": [],
   "source": [
    "def low_pass_filter(signal, cutoff=FILTER_CUTOFF, fs=4, order=4):\n",
    "    nyquist = 0.5 * fs\n",
    "    normal_cutoff = cutoff / nyquist\n",
    "    b, a = butter(order, normal_cutoff, btype='low', analog=False)\n",
    "    return filtfilt(b, a, signal)\n",
    "\n",
    "def extract_features(gsr_signal):\n",
    "    gsr_signal = np.squeeze(gsr_signal)\n",
    "    filtered_signal = low_pass_filter(gsr_signal)\n",
    "    \n",
    "    # Time-domain features\n",
    "    mean_val = np.mean(filtered_signal)\n",
    "    std_dev = np.std(filtered_signal)\n",
    "    min_val = np.min(filtered_signal)\n",
    "    max_val = np.max(filtered_signal)\n",
    "    skewness = skew(filtered_signal)\n",
    "    kurt = kurtosis(filtered_signal)\n",
    "    \n",
    "    # Frequency-domain features\n",
    "    freqs, psd = welch(filtered_signal, fs=4, nperseg=min(256, len(filtered_signal)))\n",
    "    dominant_freq = freqs[np.argmax(psd)]\n",
    "    total_power = np.sum(psd)\n",
    "    \n",
    "    # Decompose into tonic and phasic components\n",
    "    tonic = low_pass_filter(gsr_signal, cutoff=0.05, fs=4)\n",
    "    phasic = filtered_signal - tonic\n",
    "    phasic_mean = np.mean(phasic)\n",
    "    phasic_std = np.std(phasic)\n",
    "    \n",
    "    # SCR count: Detect peaks in phasic component\n",
    "    scr_count = np.sum((phasic[1:] > phasic[:-1]) & (phasic[1:] > 0.01))  # Simple peak detection with threshold\n",
    "    \n",
    "    # Frequency band powers\n",
    "    freq_bands = [(0, 0.1), (0.1, 0.2), (0.2, 0.4)]  # Hz\n",
    "    band_powers = []\n",
    "    for low, high in freq_bands:\n",
    "        idx = (freqs >= low) & (freqs < high)\n",
    "        band_power = np.sum(psd[idx])\n",
    "        band_powers.append(band_power)\n",
    "    \n",
    "    return [\n",
    "        mean_val, std_dev, min_val, max_val, skewness, kurt,\n",
    "        dominant_freq, total_power,\n",
    "        phasic_mean, phasic_std, scr_count,\n",
    "        *band_powers\n",
    "    ]"
   ]
  },
  {
   "cell_type": "markdown",
   "id": "575e84b1",
   "metadata": {
    "papermill": {
     "duration": 0.003644,
     "end_time": "2025-05-12T16:24:47.339393",
     "exception": false,
     "start_time": "2025-05-12T16:24:47.335749",
     "status": "completed"
    },
    "tags": []
   },
   "source": [
    "\n",
    "# Load and preprocess the WESAD dataset\n"
   ]
  },
  {
   "cell_type": "code",
   "execution_count": 3,
   "id": "73fbaf64",
   "metadata": {
    "execution": {
     "iopub.execute_input": "2025-05-12T16:24:47.348150Z",
     "iopub.status.busy": "2025-05-12T16:24:47.347883Z",
     "iopub.status.idle": "2025-05-12T16:27:42.249775Z",
     "shell.execute_reply": "2025-05-12T16:27:42.248563Z"
    },
    "papermill": {
     "duration": 174.908175,
     "end_time": "2025-05-12T16:27:42.251394",
     "exception": false,
     "start_time": "2025-05-12T16:24:47.343219",
     "status": "completed"
    },
    "tags": []
   },
   "outputs": [
    {
     "name": "stdout",
     "output_type": "stream",
     "text": [
      "\n",
      "Processing subject: S14\n",
      "GSR signal length: 22192 (4Hz)\n",
      "Labels length: 3883600 (likely 700Hz)\n",
      "Label step (for alignment): 175.0\n",
      "Resampled labels unique values: [0 1 2 3 4 5 6 7]\n",
      "\n",
      "Processing subject: S11\n",
      "GSR signal length: 20932 (4Hz)\n",
      "Labels length: 3663100 (likely 700Hz)\n",
      "Label step (for alignment): 175.0\n",
      "Resampled labels unique values: [0 1 2 3 4 5 6 7]\n",
      "\n",
      "Processing subject: S13\n",
      "GSR signal length: 22148 (4Hz)\n",
      "Labels length: 3875900 (likely 700Hz)\n",
      "Label step (for alignment): 175.0\n",
      "Resampled labels unique values: [0 1 2 3 4 5 6 7]\n",
      "\n",
      "Processing subject: S10\n",
      "GSR signal length: 21984 (4Hz)\n",
      "Labels length: 3847200 (likely 700Hz)\n",
      "Label step (for alignment): 175.0\n",
      "Resampled labels unique values: [0 1 2 3 4 5 6 7]\n",
      "\n",
      "Processing subject: S8\n",
      "GSR signal length: 21864 (4Hz)\n",
      "Labels length: 3826200 (likely 700Hz)\n",
      "Label step (for alignment): 175.0\n",
      "Resampled labels unique values: [0 1 2 3 4 5 6 7]\n",
      "\n",
      "Processing subject: S5\n",
      "GSR signal length: 25032 (4Hz)\n",
      "Labels length: 4380600 (likely 700Hz)\n",
      "Label step (for alignment): 175.0\n",
      "Resampled labels unique values: [0 1 2 3 4 5 6 7]\n",
      "\n",
      "Processing subject: S7\n",
      "GSR signal length: 20952 (4Hz)\n",
      "Labels length: 3666600 (likely 700Hz)\n",
      "Label step (for alignment): 175.0\n",
      "Resampled labels unique values: [0 1 2 3 4 5 6 7]\n",
      "\n",
      "Processing subject: S9\n",
      "GSR signal length: 20892 (4Hz)\n",
      "Labels length: 3656100 (likely 700Hz)\n",
      "Label step (for alignment): 175.0\n",
      "Resampled labels unique values: [0 1 2 3 4 5 6 7]\n",
      "\n",
      "Processing subject: S15\n",
      "GSR signal length: 21008 (4Hz)\n",
      "Labels length: 3676400 (likely 700Hz)\n",
      "Label step (for alignment): 175.0\n",
      "Resampled labels unique values: [0 1 2 3 4 5 6 7]\n",
      "\n",
      "Processing subject: S2\n",
      "GSR signal length: 24316 (4Hz)\n",
      "Labels length: 4255300 (likely 700Hz)\n",
      "Label step (for alignment): 175.0\n",
      "Resampled labels unique values: [0 1 2 3 4 5 6 7]\n",
      "\n",
      "Processing subject: S6\n",
      "GSR signal length: 28284 (4Hz)\n",
      "Labels length: 4949700 (likely 700Hz)\n",
      "Label step (for alignment): 175.0\n",
      "Resampled labels unique values: [0 1 2 3 4 5 6 7]\n",
      "\n",
      "Processing subject: S3\n",
      "GSR signal length: 25972 (4Hz)\n",
      "Labels length: 4545100 (likely 700Hz)\n",
      "Label step (for alignment): 175.0\n",
      "Resampled labels unique values: [0 1 2 3 4 5 6 7]\n",
      "\n",
      "Processing subject: S4\n",
      "GSR signal length: 25692 (4Hz)\n",
      "Labels length: 4496100 (likely 700Hz)\n",
      "Label step (for alignment): 175.0\n",
      "Resampled labels unique values: [0 1 2 3 4 5 6 7]\n",
      "\n",
      "Processing subject: S16\n",
      "GSR signal length: 22524 (4Hz)\n",
      "Labels length: 3941700 (likely 700Hz)\n",
      "Label step (for alignment): 175.0\n",
      "Resampled labels unique values: [0 1 2 3 4 5 6 7]\n",
      "\n",
      "Processing subject: S17\n",
      "GSR signal length: 23680 (4Hz)\n",
      "Labels length: 4144000 (likely 700Hz)\n",
      "Label step (for alignment): 175.0\n",
      "Resampled labels unique values: [0 1 2 3 4 5 6 7]\n",
      "\n",
      "Average EDA Signal Value: 1.8018\n",
      "\n",
      "Original Label Distribution (before mapping):\n",
      "Label 0: 7848 samples\n",
      "Label 1: 3525 samples\n",
      "Label 2: 1994 samples\n",
      "Label 3: 1114 samples\n",
      "Label 4: 2361 samples\n",
      "Label 5: 157 samples\n",
      "Label 6: 157 samples\n",
      "Label 7: 165 samples\n",
      "\n",
      "Binary Label Distribution (after mapping):\n",
      "Label 0 (non-stress): 14848 samples\n",
      "Label 1 (stress): 1994 samples\n"
     ]
    }
   ],
   "source": [
    "\n",
    "def load_and_preprocess_data():\n",
    "    all_subjects_data = []\n",
    "    stress_count = 0\n",
    "    non_stress_count = 0\n",
    "    all_eda_values = []  \n",
    "    original_label_counts = {0: 0, 1: 0, 2: 0, 3: 0, 4: 0, 5: 0, 6: 0, 7: 0}  \n",
    "    binary_label_counts = {0: 0, 1: 0}  \n",
    "\n",
    "    for subject in os.listdir(DATASET_DIR):\n",
    "        subject_path = os.path.join(DATASET_DIR, subject, f\"{subject}.pkl\")\n",
    "        if os.path.exists(subject_path):\n",
    "            with open(subject_path, 'rb') as file:\n",
    "                data = pickle.load(file, encoding='latin1')\n",
    "\n",
    "            signal_data = data['signal']['wrist']\n",
    "            labels = data['label']\n",
    "\n",
    "            \n",
    "            gsr_signal = signal_data['EDA']\n",
    "            \n",
    "            \n",
    "            all_eda_values.extend(gsr_signal.flatten())\n",
    "\n",
    "            \n",
    "            print(f\"\\nProcessing subject: {subject}\")\n",
    "            print(f\"GSR signal length: {len(gsr_signal)} (4Hz)\")\n",
    "            print(f\"Labels length: {len(labels)} (likely 700Hz)\")\n",
    "            if len(labels) > len(gsr_signal):\n",
    "                label_step = len(labels) / len(gsr_signal)\n",
    "                print(f\"Label step (for alignment): {label_step}\")\n",
    "\n",
    "            \n",
    "            from scipy.signal import resample\n",
    "            labels_resampled = resample(labels, len(gsr_signal))\n",
    "            labels_resampled = np.round(labels_resampled).astype(int)\n",
    "            \n",
    "            labels_resampled = np.clip(labels_resampled, 0, 7)\n",
    "            print(f\"Resampled labels unique values: {np.unique(labels_resampled)}\")\n",
    "\n",
    "            \n",
    "            window_stride = 20\n",
    "            for i in range(0, len(gsr_signal) - WINDOW_SIZE, window_stride):\n",
    "                if i >= len(labels_resampled):\n",
    "                    print(f\"Warning: Index {i} out of bounds for resampled labels array (length: {len(labels_resampled)})\")\n",
    "                    break\n",
    "                label = labels_resampled[i]\n",
    "                \n",
    "                original_label_counts[int(label)] += 1\n",
    "                \n",
    "                if label in [5, 6, 7]:\n",
    "                    continue\n",
    "               \n",
    "                binary_label = 1 if label == 2 else 0\n",
    "                binary_label_counts[binary_label] += 1\n",
    "                \n",
    "                if binary_label == 1:\n",
    "                    stress_count += 1\n",
    "                else:\n",
    "                    non_stress_count += 1\n",
    "\n",
    "                # Extract features for the window\n",
    "                window_signal = gsr_signal[i:i + WINDOW_SIZE]\n",
    "                features = extract_features(window_signal)\n",
    "                all_subjects_data.append({\n",
    "                    'Features': features,\n",
    "                    'Label': binary_label\n",
    "                })\n",
    "\n",
    "    # Calculate and print the average EDA signal\n",
    "    average_eda = np.mean(all_eda_values)\n",
    "    print(f\"\\nAverage EDA Signal Value: {average_eda:.4f}\")\n",
    "\n",
    "    # Print original and binary label distributions for debugging\n",
    "    print(\"\\nOriginal Label Distribution (before mapping):\")\n",
    "    for label, count in original_label_counts.items():\n",
    "        print(f\"Label {label}: {count} samples\")\n",
    "    print(\"\\nBinary Label Distribution (after mapping):\")\n",
    "    for label, count in binary_label_counts.items():\n",
    "        print(f\"Label {label} ({'non-stress' if label == 0 else 'stress'}): {count} samples\")\n",
    "\n",
    "    return all_subjects_data, stress_count, non_stress_count\n",
    "\n",
    "# Execute data loading\n",
    "data_list, stress_count, non_stress_count = load_and_preprocess_data()"
   ]
  },
  {
   "cell_type": "markdown",
   "id": "c150db11",
   "metadata": {
    "papermill": {
     "duration": 0.005224,
     "end_time": "2025-05-12T16:27:42.262556",
     "exception": false,
     "start_time": "2025-05-12T16:27:42.257332",
     "status": "completed"
    },
    "tags": []
   },
   "source": [
    "# Convert data to DataFrame, normalize features, apply SMOTE, and split into train/test sets "
   ]
  },
  {
   "cell_type": "code",
   "execution_count": 4,
   "id": "f5b6b080",
   "metadata": {
    "execution": {
     "iopub.execute_input": "2025-05-12T16:27:42.275013Z",
     "iopub.status.busy": "2025-05-12T16:27:42.274659Z",
     "iopub.status.idle": "2025-05-12T16:27:42.454753Z",
     "shell.execute_reply": "2025-05-12T16:27:42.453844Z"
    },
    "papermill": {
     "duration": 0.188045,
     "end_time": "2025-05-12T16:27:42.456422",
     "exception": false,
     "start_time": "2025-05-12T16:27:42.268377",
     "status": "completed"
    },
    "tags": []
   },
   "outputs": [],
   "source": [
    "df = pd.DataFrame([x['Features'] for x in data_list])\n",
    "df['Label'] = [x['Label'] for x in data_list]\n",
    "df.dropna(inplace=True)\n",
    "\n",
    "# Rename columns for clarity\n",
    "df.columns = [\n",
    "    'Mean_GSR', 'Std_Dev_GSR', 'Min_GSR', 'Max_GSR', 'Skewness', 'Kurtosis',\n",
    "    'Dominant_Frequency', 'Total_Power',\n",
    "    'Phasic_Mean', 'Phasic_Std', 'SCR_Count',\n",
    "    'Power_0_01Hz', 'Power_01_02Hz', 'Power_02_04Hz',\n",
    "    'Label'\n",
    "]\n",
    "\n",
    "# Normalize features\n",
    "scaler = StandardScaler()\n",
    "X = scaler.fit_transform(df.drop(columns=['Label']))\n",
    "y = df['Label']\n",
    "\n",
    "# Balance Data (SMOTE)\n",
    "smote = SMOTE(random_state=42)\n",
    "X, y = smote.fit_resample(X, y)\n",
    "\n",
    "# Train-Test Split\n",
    "X_train, X_test, y_train, y_test = train_test_split(X, y, test_size=TEST_SIZE, random_state=42, stratify=y)"
   ]
  },
  {
   "cell_type": "markdown",
   "id": "f1d683f0",
   "metadata": {
    "papermill": {
     "duration": 0.005162,
     "end_time": "2025-05-12T16:27:42.467130",
     "exception": false,
     "start_time": "2025-05-12T16:27:42.461968",
     "status": "completed"
    },
    "tags": []
   },
   "source": [
    "# Train the Random Forest model and calculate loss curves"
   ]
  },
  {
   "cell_type": "code",
   "execution_count": 5,
   "id": "36dec171",
   "metadata": {
    "execution": {
     "iopub.execute_input": "2025-05-12T16:27:42.479259Z",
     "iopub.status.busy": "2025-05-12T16:27:42.478944Z",
     "iopub.status.idle": "2025-05-12T16:36:29.069716Z",
     "shell.execute_reply": "2025-05-12T16:36:29.068530Z"
    },
    "papermill": {
     "duration": 526.598985,
     "end_time": "2025-05-12T16:36:29.071730",
     "exception": false,
     "start_time": "2025-05-12T16:27:42.472745",
     "status": "completed"
    },
    "tags": []
   },
   "outputs": [
    {
     "name": "stdout",
     "output_type": "stream",
     "text": [
      "Fitting 5 folds for each of 32 candidates, totalling 160 fits\n",
      "Best parameters: {'max_depth': 12, 'max_features': 'sqrt', 'min_samples_leaf': 3, 'min_samples_split': 10, 'n_estimators': 150}\n",
      "Best cross-validation accuracy: 0.8708\n",
      "\n",
      "Feature Importances:\n",
      "               Feature  Importance\n",
      "0             Mean_GSR    0.184766\n",
      "2              Min_GSR    0.174121\n",
      "3              Max_GSR    0.152415\n",
      "12       Power_01_02Hz    0.104258\n",
      "9           Phasic_Std    0.079024\n",
      "7          Total_Power    0.063964\n",
      "13       Power_02_04Hz    0.053686\n",
      "10           SCR_Count    0.038647\n",
      "1          Std_Dev_GSR    0.038122\n",
      "11        Power_0_01Hz    0.030283\n",
      "8          Phasic_Mean    0.029193\n",
      "5             Kurtosis    0.024757\n",
      "4             Skewness    0.023889\n",
      "6   Dominant_Frequency    0.002874\n"
     ]
    }
   ],
   "source": [
    "# Train the Random Forest model with hyperparameter tuning and cross-validation\n",
    "if len(np.unique(y)) <= 1:\n",
    "    print(\"Warning: Only one class detected. Skipping model training and evaluation.\")\n",
    "    train_losses = [0] * MAX_TREES  # Dummy values\n",
    "    test_losses = [0] * MAX_TREES   # Dummy values\n",
    "    n_estimators_range = range(1, MAX_TREES + 1, 1)\n",
    "    model = None\n",
    "    y_train_pred = y_train\n",
    "    y_test_pred = y_test\n",
    "else:\n",
    "    # Define parameter grid for Random Forest with balanced regularization\n",
    "    param_grid = {\n",
    "        'n_estimators': [100, 150],\n",
    "        'max_depth': [10, 12],\n",
    "        'min_samples_split': [8, 10],\n",
    "        'min_samples_leaf': [3, 5],\n",
    "        'max_features': ['sqrt', 'log2']\n",
    "    }\n",
    "    \n",
    "    # Initialize Random Forest Classifier\n",
    "    rf = RandomForestClassifier(class_weight='balanced', random_state=42)\n",
    "    \n",
    "    # Perform GridSearchCV with 5-fold cross-validation\n",
    "    grid_search = GridSearchCV(\n",
    "        estimator=rf,\n",
    "        param_grid=param_grid,\n",
    "        cv=5,\n",
    "        scoring='accuracy',\n",
    "        n_jobs=-1,\n",
    "        verbose=1\n",
    "    )\n",
    "    grid_search.fit(X_train, y_train)\n",
    "    \n",
    "    # Best model\n",
    "    model = grid_search.best_estimator_\n",
    "    print(f\"Best parameters: {grid_search.best_params_}\")\n",
    "    print(f\"Best cross-validation accuracy: {grid_search.best_score_:.4f}\")\n",
    "    \n",
    "    # Feature importances\n",
    "    feature_names = [\n",
    "        'Mean_GSR', 'Std_Dev_GSR', 'Min_GSR', 'Max_GSR', 'Skewness', 'Kurtosis',\n",
    "        'Dominant_Frequency', 'Total_Power',\n",
    "        'Phasic_Mean', 'Phasic_Std', 'SCR_Count',\n",
    "        'Power_0_01Hz', 'Power_01_02Hz', 'Power_02_04Hz'\n",
    "    ]\n",
    "    importances = model.feature_importances_\n",
    "    feature_importance_df = pd.DataFrame({\n",
    "        'Feature': feature_names,\n",
    "        'Importance': importances\n",
    "    }).sort_values(by='Importance', ascending=False)\n",
    "    print(\"\\nFeature Importances:\")\n",
    "    print(feature_importance_df)\n",
    "    \n",
    "    # Calculate loss curves with the best model\n",
    "    train_losses = []\n",
    "    test_losses = []\n",
    "    n_estimators_range = range(1, MAX_TREES + 1, 1)\n",
    "    \n",
    "    for n_estimators in n_estimators_range:\n",
    "        temp_model = RandomForestClassifier(\n",
    "            n_estimators=n_estimators,\n",
    "            max_depth=model.max_depth,\n",
    "            min_samples_split=model.min_samples_split,\n",
    "            min_samples_leaf=model.min_samples_leaf,\n",
    "            max_features=model.max_features,\n",
    "            class_weight='balanced',\n",
    "            random_state=42\n",
    "        )\n",
    "        temp_model.fit(X_train, y_train)\n",
    "        \n",
    "        train_proba = temp_model.predict_proba(X_train)\n",
    "        test_proba = temp_model.predict_proba(X_test)\n",
    "        train_loss = log_loss(y_train, train_proba)\n",
    "        test_loss = log_loss(y_test, test_proba)\n",
    "        \n",
    "        train_losses.append(train_loss)\n",
    "        test_losses.append(test_loss)\n",
    "\n",
    "    # Predictions with the best model\n",
    "    y_train_pred = model.predict(X_train)\n",
    "    y_test_pred = model.predict(X_test)\n",
    "\n",
    "# Create output directory if it doesn't exist\n",
    "os.makedirs(OUTPUT_DIR, exist_ok=True)"
   ]
  },
  {
   "cell_type": "markdown",
   "id": "61c24a07",
   "metadata": {
    "papermill": {
     "duration": 0.005099,
     "end_time": "2025-05-12T16:36:29.082683",
     "exception": false,
     "start_time": "2025-05-12T16:36:29.077584",
     "status": "completed"
    },
    "tags": []
   },
   "source": [
    "# Print initial evaluation metrics"
   ]
  },
  {
   "cell_type": "code",
   "execution_count": 6,
   "id": "3889d668",
   "metadata": {
    "execution": {
     "iopub.execute_input": "2025-05-12T16:36:29.093839Z",
     "iopub.status.busy": "2025-05-12T16:36:29.093536Z",
     "iopub.status.idle": "2025-05-12T16:36:29.098270Z",
     "shell.execute_reply": "2025-05-12T16:36:29.097540Z"
    },
    "papermill": {
     "duration": 0.011785,
     "end_time": "2025-05-12T16:36:29.099502",
     "exception": false,
     "start_time": "2025-05-12T16:36:29.087717",
     "status": "completed"
    },
    "tags": []
   },
   "outputs": [
    {
     "name": "stdout",
     "output_type": "stream",
     "text": [
      "\n",
      "1. Stress Samples After Windowing: 1994\n",
      "2. Non-Stress Samples After Windowing: 14848\n"
     ]
    }
   ],
   "source": [
    "\n",
    "\n",
    "print(\"\\n1. Stress Samples After Windowing:\", stress_count)\n",
    "\n",
    "\n",
    "print(\"2. Non-Stress Samples After Windowing:\", non_stress_count)"
   ]
  },
  {
   "cell_type": "markdown",
   "id": "407626bc",
   "metadata": {
    "papermill": {
     "duration": 0.004782,
     "end_time": "2025-05-12T16:36:29.109380",
     "exception": false,
     "start_time": "2025-05-12T16:36:29.104598",
     "status": "completed"
    },
    "tags": []
   },
   "source": [
    "# Plot EDA Signal Before and After Filtering"
   ]
  },
  {
   "cell_type": "code",
   "execution_count": 7,
   "id": "aafd4433",
   "metadata": {
    "execution": {
     "iopub.execute_input": "2025-05-12T16:36:29.120173Z",
     "iopub.status.busy": "2025-05-12T16:36:29.119935Z",
     "iopub.status.idle": "2025-05-12T16:36:33.546928Z",
     "shell.execute_reply": "2025-05-12T16:36:33.546121Z"
    },
    "papermill": {
     "duration": 4.434757,
     "end_time": "2025-05-12T16:36:33.549229",
     "exception": false,
     "start_time": "2025-05-12T16:36:29.114472",
     "status": "completed"
    },
    "tags": []
   },
   "outputs": [
    {
     "name": "stdout",
     "output_type": "stream",
     "text": [
      "\n",
      "Plotting EDA Signal Before and After Filtering (Plot 1/5):\n"
     ]
    },
    {
     "data": {
      "image/png": "[encoded data removed]",
      "text/plain": [
       "<Figure size 1000x600 with 1 Axes>"
      ]
     },
     "metadata": {},
     "output_type": "display_data"
    },
    {
     "name": "stdout",
     "output_type": "stream",
     "text": [
      "Saved EDA Signal Plot to /kaggle/working/outputs/eda_signal.png\n"
     ]
    }
   ],
   "source": [
    "\n",
    "print(\"\\nPlotting EDA Signal Before and After Filtering (Plot 1/5):\")\n",
    "\n",
    "first_subject = os.listdir(DATASET_DIR)[0]\n",
    "first_path = os.path.join(DATASET_DIR, first_subject, f\"{first_subject}.pkl\")\n",
    "with open(first_path, 'rb') as file:\n",
    "    data = pickle.load(file, encoding='latin1')\n",
    "gsr_signal = data['signal']['wrist']['EDA']\n",
    "raw_signal = np.squeeze(gsr_signal[:WINDOW_SIZE])\n",
    "filtered_signal = low_pass_filter(raw_signal)\n",
    "time = np.arange(0, len(raw_signal)) / 4  \n",
    "\n",
    "plt.figure(figsize=(10, 6))\n",
    "plt.plot(time, raw_signal, label='Raw EDA Signal', color='blue')\n",
    "plt.plot(time, filtered_signal, label='Filtered EDA Signal', color='orange')\n",
    "plt.title('EDA Signal Before and After Low-Pass Filtering')\n",
    "plt.xlabel('Time (seconds)')\n",
    "plt.ylabel('EDA (µS)')\n",
    "plt.grid(True)\n",
    "plt.legend()\n",
    "plt.savefig(os.path.join(OUTPUT_DIR, 'eda_signal.png'))\n",
    "plt.show()\n",
    "plt.close()\n",
    "print(f\"Saved EDA Signal Plot to {os.path.join(OUTPUT_DIR, 'eda_signal.png')}\")"
   ]
  },
  {
   "cell_type": "markdown",
   "id": "fbacc2d9",
   "metadata": {
    "papermill": {
     "duration": 0.006455,
     "end_time": "2025-05-12T16:36:33.562458",
     "exception": false,
     "start_time": "2025-05-12T16:36:33.556003",
     "status": "completed"
    },
    "tags": []
   },
   "source": [
    "# Plot Class Distribution Before and After SMOTE"
   ]
  },
  {
   "cell_type": "code",
   "execution_count": 8,
   "id": "75c84aea",
   "metadata": {
    "execution": {
     "iopub.execute_input": "2025-05-12T16:36:33.575907Z",
     "iopub.status.busy": "2025-05-12T16:36:33.575658Z",
     "iopub.status.idle": "2025-05-12T16:36:34.026648Z",
     "shell.execute_reply": "2025-05-12T16:36:34.025809Z"
    },
    "papermill": {
     "duration": 0.459265,
     "end_time": "2025-05-12T16:36:34.028030",
     "exception": false,
     "start_time": "2025-05-12T16:36:33.568765",
     "status": "completed"
    },
    "tags": []
   },
   "outputs": [
    {
     "name": "stdout",
     "output_type": "stream",
     "text": [
      "\n",
      "Plotting Class Distribution Before and After SMOTE (Plot 2/5):\n"
     ]
    },
    {
     "data": {
      "image/png": "[encoded data removed]",
      "text/plain": [
       "<Figure size 1000x500 with 2 Axes>"
      ]
     },
     "metadata": {},
     "output_type": "display_data"
    },
    {
     "name": "stdout",
     "output_type": "stream",
     "text": [
      "Saved Class Distribution Plot to /kaggle/working/outputs/class_distribution.png\n"
     ]
    }
   ],
   "source": [
    "\n",
    "print(\"\\nPlotting Class Distribution Before and After SMOTE (Plot 2/5):\")\n",
    "fig, (ax1, ax2) = plt.subplots(1, 2, figsize=(10, 5))\n",
    "\n",
    "# Before SMOTE\n",
    "non_stress_before = len(df[df['Label'] == 0])\n",
    "stress_before = len(df[df['Label'] == 1])\n",
    "ax1.bar(['Non-Stress (0)', 'Stress (1)'], [non_stress_before, stress_before], color=['blue', 'orange'])\n",
    "ax1.set_title('Class Distribution Before SMOTE')\n",
    "ax1.set_ylabel('Number of Samples')\n",
    "for i, v in enumerate([non_stress_before, stress_before]):\n",
    "    ax1.text(i, v + 50, str(v), ha='center', va='bottom')\n",
    "\n",
    "# After SMOTE\n",
    "non_stress_after = len(y[y == 0])\n",
    "stress_after = len(y[y == 1])\n",
    "ax2.bar(['Non-Stress (0)', 'Stress (1)'], [non_stress_after, stress_after], color=['blue', 'orange'])\n",
    "ax2.set_title('Class Distribution After SMOTE')\n",
    "ax2.set_ylabel('Number of Samples')\n",
    "for i, v in enumerate([non_stress_after, stress_after]):\n",
    "    ax2.text(i, v + 50, str(v), ha='center', va='bottom')\n",
    "\n",
    "plt.tight_layout()\n",
    "plt.savefig(os.path.join(OUTPUT_DIR, 'class_distribution.png'))\n",
    "plt.show()\n",
    "plt.close()\n",
    "print(f\"Saved Class Distribution Plot to {os.path.join(OUTPUT_DIR, 'class_distribution.png')}\")"
   ]
  },
  {
   "cell_type": "markdown",
   "id": "87482c2d",
   "metadata": {
    "papermill": {
     "duration": 0.006901,
     "end_time": "2025-05-12T16:36:34.042037",
     "exception": false,
     "start_time": "2025-05-12T16:36:34.035136",
     "status": "completed"
    },
    "tags": []
   },
   "source": [
    "#  Confusion Matrix \n",
    "#  Plot Loss Curve"
   ]
  },
  {
   "cell_type": "code",
   "execution_count": 9,
   "id": "8b801369",
   "metadata": {
    "execution": {
     "iopub.execute_input": "2025-05-12T16:36:34.056613Z",
     "iopub.status.busy": "2025-05-12T16:36:34.056344Z",
     "iopub.status.idle": "2025-05-12T16:36:34.717380Z",
     "shell.execute_reply": "2025-05-12T16:36:34.716516Z"
    },
    "papermill": {
     "duration": 0.670041,
     "end_time": "2025-05-12T16:36:34.718853",
     "exception": false,
     "start_time": "2025-05-12T16:36:34.048812",
     "status": "completed"
    },
    "tags": []
   },
   "outputs": [
    {
     "name": "stdout",
     "output_type": "stream",
     "text": [
      "\n",
      "3. Training Accuracy: 0.9095\n",
      "4. Test Accuracy: 0.8667\n",
      "\n",
      "5. Classification Report:\n",
      "              precision    recall  f1-score   support\n",
      "\n",
      "           0       0.94      0.79      0.85      4455\n",
      "           1       0.82      0.95      0.88      4454\n",
      "\n",
      "    accuracy                           0.87      8909\n",
      "   macro avg       0.88      0.87      0.87      8909\n",
      "weighted avg       0.88      0.87      0.87      8909\n",
      "\n",
      "\n",
      "6. Confusion Matrix:\n",
      " [[3501  954]\n",
      " [ 234 4220]]\n",
      "\n",
      "7. Displaying Confusion Matrix Plot (Plot 3/6):\n"
     ]
    },
    {
     "data": {
      "image/png": "[encoded data removed]",
      "text/plain": [
       "<Figure size 500x400 with 2 Axes>"
      ]
     },
     "metadata": {},
     "output_type": "display_data"
    },
    {
     "name": "stdout",
     "output_type": "stream",
     "text": [
      "\n",
      "8. Displaying Loss Curve Plot (Plot 4/6):\n"
     ]
    },
    {
     "data": {
      "image/png": "[encoded data removed]",
      "text/plain": [
       "<Figure size 1000x600 with 1 Axes>"
      ]
     },
     "metadata": {},
     "output_type": "display_data"
    }
   ],
   "source": [
    "# 3. Training Accuracy\n",
    "train_accuracy = accuracy_score(y_train, y_train_pred)\n",
    "print(f\"\\n3. Training Accuracy: {train_accuracy:.4f}\")\n",
    "\n",
    "# 4. Test Accuracy\n",
    "test_accuracy = accuracy_score(y_test, y_test_pred)\n",
    "print(f\"4. Test Accuracy: {test_accuracy:.4f}\")\n",
    "\n",
    "# 5. Classification Report\n",
    "print(\"\\n5. Classification Report:\")\n",
    "print(classification_report(y_test, y_test_pred))\n",
    "\n",
    "# 6. Confusion Matrix\n",
    "conf_matrix = confusion_matrix(y_test, y_test_pred)\n",
    "print(\"\\n6. Confusion Matrix:\\n\", conf_matrix)\n",
    "\n",
    "# 7. Plot Confusion Matrix\n",
    "print(\"\\n7. Displaying Confusion Matrix Plot (Plot 3/6):\")\n",
    "plt.figure(figsize=(5, 4))\n",
    "plt.imshow(conf_matrix, interpolation='nearest', cmap=plt.cm.Blues)\n",
    "plt.colorbar()\n",
    "for i in range(conf_matrix.shape[0]):\n",
    "    for j in range(conf_matrix.shape[1]):\n",
    "        if i == 0 and j == 0:\n",
    "            plt.text(j, i, f'TN: {conf_matrix[i, j]}', ha='center', va='center', color='white' if conf_matrix[i, j] > conf_matrix.max() / 2 else 'black')\n",
    "        elif i == 0 and j == 1:\n",
    "            plt.text(j, i, f'FP: {conf_matrix[i, j]}', ha='center', va='center', color='white' if conf_matrix[i, j] > conf_matrix.max() / 2 else 'black')\n",
    "        elif i == 1 and j == 0:\n",
    "            plt.text(j, i, f'FN: {conf_matrix[i, j]}', ha='center', va='center', color='white' if conf_matrix[i, j] > conf_matrix.max() / 2 else 'black')\n",
    "        elif i == 1 and j == 1:\n",
    "            plt.text(j, i, f'TP: {conf_matrix[i, j]}', ha='center', va='center', color='white' if conf_matrix[i, j] > conf_matrix.max() / 2 else 'black')\n",
    "plt.xlabel('Predicted Label')\n",
    "plt.ylabel('True Label')\n",
    "plt.title('Confusion Matrix')\n",
    "plt.savefig(os.path.join(OUTPUT_DIR, 'confusion_matrix.png'))\n",
    "plt.show()\n",
    "plt.close()\n",
    "\n",
    "# 8. Plot Loss Curve\n",
    "print(\"\\n8. Displaying Loss Curve Plot (Plot 4/6):\")\n",
    "plt.figure(figsize=(10, 6))\n",
    "plt.plot(n_estimators_range, train_losses, label='Training Loss', color='blue', linewidth=2)\n",
    "plt.plot(n_estimators_range, test_losses, label='Test Loss', color='orange', linewidth=2)\n",
    "plt.title('Training vs Test Loss Curve', fontsize=14)\n",
    "plt.xlabel('Number of Trees', fontsize=12)\n",
    "plt.ylabel('Log Loss', fontsize=12)\n",
    "plt.grid(True)\n",
    "plt.legend(fontsize=12)\n",
    "plt.savefig(os.path.join(OUTPUT_DIR, 'loss_curve.png'))\n",
    "plt.show()\n",
    "plt.close()"
   ]
  },
  {
   "cell_type": "markdown",
   "id": "3b7b096d",
   "metadata": {
    "papermill": {
     "duration": 0.007923,
     "end_time": "2025-05-12T16:36:34.735724",
     "exception": false,
     "start_time": "2025-05-12T16:36:34.727801",
     "status": "completed"
    },
    "tags": []
   },
   "source": [
    "#  Loss Analysis and \n",
    "#  Feature Statistics for Stressed and Non-Stressed Samples"
   ]
  },
  {
   "cell_type": "code",
   "execution_count": 10,
   "id": "594ba386",
   "metadata": {
    "execution": {
     "iopub.execute_input": "2025-05-12T16:36:34.753303Z",
     "iopub.status.busy": "2025-05-12T16:36:34.753044Z",
     "iopub.status.idle": "2025-05-12T16:36:34.818558Z",
     "shell.execute_reply": "2025-05-12T16:36:34.817649Z"
    },
    "papermill": {
     "duration": 0.075896,
     "end_time": "2025-05-12T16:36:34.819916",
     "exception": false,
     "start_time": "2025-05-12T16:36:34.744020",
     "status": "completed"
    },
    "tags": []
   },
   "outputs": [
    {
     "name": "stdout",
     "output_type": "stream",
     "text": [
      "\n",
      "9. Loss Analysis:\n",
      "The model shows good generalization. The training loss curve is consistently below the test loss curve, but the gap is not too large, indicating minimal overfitting.\n",
      "\n",
      "10. Feature Statistics for Stressed Samples (Label = 1):\n",
      "          Mean_GSR  Std_Dev_GSR      Min_GSR      Max_GSR     Skewness  \\\n",
      "count  1994.000000  1994.000000  1994.000000  1994.000000  1994.000000   \n",
      "mean      3.420167     0.057499     3.326839     3.518409     0.100298   \n",
      "std       3.657900     0.070913     3.586869     3.725269     0.697751   \n",
      "min       0.298680     0.000180     0.291693     0.299985    -2.692441   \n",
      "25%       1.042049     0.014847     1.017046     1.068696    -0.284232   \n",
      "50%       2.138313     0.032447     2.060978     2.221757     0.106673   \n",
      "75%       3.912368     0.075612     3.737817     4.068113     0.485810   \n",
      "max      15.672504     0.601133    15.561854    15.903501     2.636875   \n",
      "\n",
      "          Kurtosis  Dominant_Frequency   Total_Power  Phasic_Mean  \\\n",
      "count  1994.000000         1994.000000  1.994000e+03  1994.000000   \n",
      "mean     -0.625666            0.053987  1.130997e-01     0.000476   \n",
      "std       1.166855            0.015773  3.470675e-01     0.013019   \n",
      "min      -1.830288            0.000000  4.348640e-07    -0.116501   \n",
      "25%      -1.305108            0.050000  2.099774e-03    -0.003033   \n",
      "50%      -1.020196            0.050000  1.088578e-02    -0.000120   \n",
      "75%      -0.397031            0.050000  6.683947e-02     0.003240   \n",
      "max       7.175246            0.150000  5.317714e+00     0.102864   \n",
      "\n",
      "        Phasic_Std    SCR_Count  Power_0_01Hz  Power_01_02Hz  Power_02_04Hz  \\\n",
      "count  1994.000000  1994.000000  1.994000e+03   1.994000e+03   1.994000e+03   \n",
      "mean      0.032878    11.611334  8.571664e-02   2.734635e-02   3.645195e-05   \n",
      "std       0.042283     9.642318  2.733294e-01   8.524159e-02   1.254585e-04   \n",
      "min       0.000166     0.000000  7.772769e-08   1.600719e-07   1.139058e-10   \n",
      "25%       0.006624     0.000000  1.540543e-03   3.408494e-04   6.174632e-07   \n",
      "50%       0.016787    12.000000  8.048951e-03   2.121398e-03   3.583951e-06   \n",
      "75%       0.043282    18.000000  4.865724e-02   1.549415e-02   1.998977e-05   \n",
      "max       0.376782    47.000000  4.145595e+00   1.258890e+00   2.050515e-03   \n",
      "\n",
      "        Label  \n",
      "count  1994.0  \n",
      "mean      1.0  \n",
      "std       0.0  \n",
      "min       1.0  \n",
      "25%       1.0  \n",
      "50%       1.0  \n",
      "75%       1.0  \n",
      "max       1.0  \n",
      "\n",
      "Feature Statistics for Non-Stressed Samples (Label = 0):\n",
      "           Mean_GSR   Std_Dev_GSR       Min_GSR       Max_GSR      Skewness  \\\n",
      "count  14848.000000  14848.000000  14848.000000  14848.000000  14848.000000   \n",
      "mean       1.586542      0.026285      1.544866      1.630472      0.067123   \n",
      "std        2.011892      0.059142      1.964358      2.062281      0.742904   \n",
      "min        0.083356      0.000099      0.065514      0.087079     -2.779561   \n",
      "25%        0.317771      0.002017      0.312732      0.321316     -0.333712   \n",
      "50%        0.628003      0.006811      0.597200      0.663016      0.090625   \n",
      "75%        2.039398      0.023314      1.945090      2.114449      0.482378   \n",
      "max       13.436074      1.535311     12.760067     14.246283      3.005382   \n",
      "\n",
      "           Kurtosis  Dominant_Frequency   Total_Power   Phasic_Mean  \\\n",
      "count  14848.000000        14848.000000  1.484800e+04  14848.000000   \n",
      "mean      -0.554485            0.052536  5.191091e-02     -0.000201   \n",
      "std        1.300837            0.013957  4.276743e-01      0.008986   \n",
      "min       -1.821895            0.000000  7.868547e-08     -0.131918   \n",
      "25%       -1.299251            0.050000  3.210624e-05     -0.001032   \n",
      "50%       -1.010278            0.050000  3.986546e-04     -0.000160   \n",
      "75%       -0.360037            0.050000  5.151289e-03      0.000183   \n",
      "max        9.097350            0.150000  3.249849e+01      0.281573   \n",
      "\n",
      "         Phasic_Std     SCR_Count  Power_0_01Hz  Power_01_02Hz  Power_02_04Hz  \\\n",
      "count  14848.000000  14848.000000  1.484800e+04   1.484800e+04   1.484800e+04   \n",
      "mean       0.012900      4.407664  4.077337e-02   1.112344e-02   1.393400e-05   \n",
      "std        0.031662      7.719860  3.411228e-01   9.217344e-02   9.679085e-05   \n",
      "min        0.000075      0.000000  6.915898e-09   2.953954e-09   1.578551e-11   \n",
      "25%        0.000822      0.000000  2.547021e-05   3.907122e-06   1.574428e-08   \n",
      "50%        0.002758      0.000000  3.154876e-04   5.611140e-05   1.437796e-07   \n",
      "75%        0.010022      8.000000  4.155606e-03   7.890959e-04   1.729664e-06   \n",
      "max        0.815695     40.000000  2.599040e+01   6.506217e+00   4.695665e-03   \n",
      "\n",
      "         Label  \n",
      "count  14848.0  \n",
      "mean       0.0  \n",
      "std        0.0  \n",
      "min        0.0  \n",
      "25%        0.0  \n",
      "50%        0.0  \n",
      "75%        0.0  \n",
      "max        0.0  \n"
     ]
    }
   ],
   "source": [
    "\n",
    "final_train_loss = train_losses[-1]\n",
    "final_test_loss = test_losses[-1]\n",
    "print(\"\\n9. Loss Analysis:\")\n",
    "if final_train_loss < final_test_loss and (final_test_loss - final_train_loss) < 0.5:\n",
    "    print(\"The model shows good generalization. The training loss curve is consistently below the test loss curve, but the gap is not too large, indicating minimal overfitting.\")\n",
    "elif final_train_loss < final_test_loss and (final_test_loss - final_train_loss) >= 0.5:\n",
    "    print(\"The model may be overfitting. The training loss curve is significantly lower than the test loss curve, suggesting the model fits the training data too closely.\")\n",
    "else:\n",
    "    print(\"The model shows unusual behavior. The test loss curve is below the training loss curve, which is uncommon and may indicate issues with the data split or model configuration.\")\n",
    "\n",
    "\n",
    "stressed_df = df[df['Label'] == 1]\n",
    "non_stressed_df = df[df['Label'] == 0]\n",
    "print(\"\\n10. Feature Statistics for Stressed Samples (Label = 1):\")\n",
    "print(stressed_df.describe())\n",
    "print(\"\\nFeature Statistics for Non-Stressed Samples (Label = 0):\")\n",
    "print(non_stressed_df.describe())"
   ]
  },
  {
   "cell_type": "markdown",
   "id": "b78bc971",
   "metadata": {
    "papermill": {
     "duration": 0.008213,
     "end_time": "2025-05-12T16:36:34.836439",
     "exception": false,
     "start_time": "2025-05-12T16:36:34.828226",
     "status": "completed"
    },
    "tags": []
   },
   "source": [
    "#  GUI for Stress Prediction"
   ]
  },
  {
   "cell_type": "code",
   "execution_count": 11,
   "id": "82540ae5",
   "metadata": {
    "execution": {
     "iopub.execute_input": "2025-05-12T16:36:34.853573Z",
     "iopub.status.busy": "2025-05-12T16:36:34.853324Z",
     "iopub.status.idle": "2025-05-12T16:36:34.920913Z",
     "shell.execute_reply": "2025-05-12T16:36:34.920106Z"
    },
    "papermill": {
     "duration": 0.079793,
     "end_time": "2025-05-12T16:36:34.924438",
     "exception": false,
     "start_time": "2025-05-12T16:36:34.844645",
     "status": "completed"
    },
    "tags": []
   },
   "outputs": [
    {
     "name": "stdout",
     "output_type": "stream",
     "text": [
      "\n",
      "11. Displaying Stress Prediction GUI (5/6):\n"
     ]
    },
    {
     "data": {
      "text/html": [
       "\n",
       "    <h2 style='color: #2c3e50;'>Stress Prediction GUI</h2>\n",
       "    <p style='color: #34495e;'>Enter the GSR feature values below and click 'Predict Stress' to see the result.</p>\n"
      ],
      "text/plain": [
       "<IPython.core.display.HTML object>"
      ]
     },
     "metadata": {},
     "output_type": "display_data"
    },
    {
     "data": {
      "application/vnd.jupyter.widget-view+json": {
       "model_id": "5b55f99099374ac6aeb1570de7cd6fde",
       "version_major": 2,
       "version_minor": 0
      },
      "text/plain": [
       "FloatText(value=0.0, description='Mean GSR:', layout=Layout(width='400px'), style=DescriptionStyle(description…"
      ]
     },
     "metadata": {},
     "output_type": "display_data"
    },
    {
     "data": {
      "application/vnd.jupyter.widget-view+json": {
       "model_id": "a13b3f8b0aa54f60a77bea46edc23397",
       "version_major": 2,
       "version_minor": 0
      },
      "text/plain": [
       "FloatText(value=0.0, description='Std Dev GSR:', layout=Layout(width='400px'), style=DescriptionStyle(descript…"
      ]
     },
     "metadata": {},
     "output_type": "display_data"
    },
    {
     "data": {
      "application/vnd.jupyter.widget-view+json": {
       "model_id": "7c1abf1f02d54362b1e145dd2f4e584d",
       "version_major": 2,
       "version_minor": 0
      },
      "text/plain": [
       "FloatText(value=0.0, description='Min GSR:', layout=Layout(width='400px'), style=DescriptionStyle(description_…"
      ]
     },
     "metadata": {},
     "output_type": "display_data"
    },
    {
     "data": {
      "application/vnd.jupyter.widget-view+json": {
       "model_id": "df2dd753e7ca4151a4bd0efa1d714d5c",
       "version_major": 2,
       "version_minor": 0
      },
      "text/plain": [
       "FloatText(value=0.0, description='Max GSR:', layout=Layout(width='400px'), style=DescriptionStyle(description_…"
      ]
     },
     "metadata": {},
     "output_type": "display_data"
    },
    {
     "data": {
      "application/vnd.jupyter.widget-view+json": {
       "model_id": "b54c6ec7211648aa8ba8868600b8c873",
       "version_major": 2,
       "version_minor": 0
      },
      "text/plain": [
       "FloatText(value=0.0, description='Skewness:', layout=Layout(width='400px'), style=DescriptionStyle(description…"
      ]
     },
     "metadata": {},
     "output_type": "display_data"
    },
    {
     "data": {
      "application/vnd.jupyter.widget-view+json": {
       "model_id": "a4da89df0f02495a93b28654ed0e70e0",
       "version_major": 2,
       "version_minor": 0
      },
      "text/plain": [
       "FloatText(value=0.0, description='Kurtosis:', layout=Layout(width='400px'), style=DescriptionStyle(description…"
      ]
     },
     "metadata": {},
     "output_type": "display_data"
    },
    {
     "data": {
      "application/vnd.jupyter.widget-view+json": {
       "model_id": "2e1e2d2d23f04bc6b8533fdc108caccf",
       "version_major": 2,
       "version_minor": 0
      },
      "text/plain": [
       "FloatText(value=0.0, description='Dominant Frequency:', layout=Layout(width='400px'), style=DescriptionStyle(d…"
      ]
     },
     "metadata": {},
     "output_type": "display_data"
    },
    {
     "data": {
      "application/vnd.jupyter.widget-view+json": {
       "model_id": "7fdbc97fdc754a53b0ce9f7ff22162bf",
       "version_major": 2,
       "version_minor": 0
      },
      "text/plain": [
       "FloatText(value=0.0, description='Total Power:', layout=Layout(width='400px'), style=DescriptionStyle(descript…"
      ]
     },
     "metadata": {},
     "output_type": "display_data"
    },
    {
     "data": {
      "application/vnd.jupyter.widget-view+json": {
       "model_id": "133ade3774464bb4979e4efc52d9c4d6",
       "version_major": 2,
       "version_minor": 0
      },
      "text/plain": [
       "FloatText(value=0.0, description='Phasic Mean:', layout=Layout(width='400px'), style=DescriptionStyle(descript…"
      ]
     },
     "metadata": {},
     "output_type": "display_data"
    },
    {
     "data": {
      "application/vnd.jupyter.widget-view+json": {
       "model_id": "e394d9382cc8452cac48cd397363b194",
       "version_major": 2,
       "version_minor": 0
      },
      "text/plain": [
       "FloatText(value=0.0, description='Phasic Std:', layout=Layout(width='400px'), style=DescriptionStyle(descripti…"
      ]
     },
     "metadata": {},
     "output_type": "display_data"
    },
    {
     "data": {
      "application/vnd.jupyter.widget-view+json": {
       "model_id": "d90b37d3575a433f9980d28d25344ccd",
       "version_major": 2,
       "version_minor": 0
      },
      "text/plain": [
       "FloatText(value=0.0, description='SCR Count:', layout=Layout(width='400px'), style=DescriptionStyle(descriptio…"
      ]
     },
     "metadata": {},
     "output_type": "display_data"
    },
    {
     "data": {
      "application/vnd.jupyter.widget-view+json": {
       "model_id": "5023645513f44c46ac55b196bc99d18b",
       "version_major": 2,
       "version_minor": 0
      },
      "text/plain": [
       "FloatText(value=0.0, description='Power 0-0.1Hz:', layout=Layout(width='400px'), style=DescriptionStyle(descri…"
      ]
     },
     "metadata": {},
     "output_type": "display_data"
    },
    {
     "data": {
      "application/vnd.jupyter.widget-view+json": {
       "model_id": "f89af4210d54472992886bd974229857",
       "version_major": 2,
       "version_minor": 0
      },
      "text/plain": [
       "FloatText(value=0.0, description='Power 0.1-0.2Hz:', layout=Layout(width='400px'), style=DescriptionStyle(desc…"
      ]
     },
     "metadata": {},
     "output_type": "display_data"
    },
    {
     "data": {
      "application/vnd.jupyter.widget-view+json": {
       "model_id": "0977d57659a342a0b4b529effc2332fc",
       "version_major": 2,
       "version_minor": 0
      },
      "text/plain": [
       "FloatText(value=0.0, description='Power 0.2-0.4Hz:', layout=Layout(width='400px'), style=DescriptionStyle(desc…"
      ]
     },
     "metadata": {},
     "output_type": "display_data"
    },
    {
     "data": {
      "application/vnd.jupyter.widget-view+json": {
       "model_id": "dea72aa65db44bf4976dee27ce181e67",
       "version_major": 2,
       "version_minor": 0
      },
      "text/plain": [
       "Button(button_style='success', description='Predict Stress', layout=Layout(margin='10px 0', width='200px'), st…"
      ]
     },
     "metadata": {},
     "output_type": "display_data"
    },
    {
     "data": {
      "application/vnd.jupyter.widget-view+json": {
       "model_id": "e8d33fe8b9c140da99fe18b77bb96fc8",
       "version_major": 2,
       "version_minor": 0
      },
      "text/plain": [
       "Output()"
      ]
     },
     "metadata": {},
     "output_type": "display_data"
    }
   ],
   "source": [
    "# 11. GUI for Stress Prediction\n",
    "feature_names = [\n",
    "    \"Mean GSR\", \"Std Dev GSR\", \"Min GSR\", \"Max GSR\", \n",
    "    \"Skewness\", \"Kurtosis\", \"Dominant Frequency\", \"Total Power\",\n",
    "    \"Phasic Mean\", \"Phasic Std\", \"SCR Count\",\n",
    "    \"Power 0-0.1Hz\", \"Power 0.1-0.2Hz\", \"Power 0.2-0.4Hz\"\n",
    "]\n",
    "\n",
    "# Create input widgets for the feature values\n",
    "input_widgets = [widgets.FloatText(\n",
    "    description=name + \":\", \n",
    "    value=0.0, \n",
    "    style={'description_width': 'initial'},\n",
    "    layout={'width': '400px'}\n",
    ") for name in feature_names]\n",
    "\n",
    "# Create a button to trigger prediction\n",
    "predict_button = widgets.Button(\n",
    "    description=\"Predict Stress\",\n",
    "    button_style='success',\n",
    "    tooltip='Click to predict stress level',\n",
    "    layout={'width': '200px', 'margin': '10px 0'}\n",
    ")\n",
    "\n",
    "# Create an output widget to display the result\n",
    "output = widgets.Output()\n",
    "\n",
    "# Define the prediction function\n",
    "def on_predict_button_clicked(b):\n",
    "    with output:\n",
    "        output.clear_output()\n",
    "        if len(np.unique(y)) <= 1:\n",
    "            display(HTML(\"<p style='color: #e74c3c;'>Error: Model not trained (only one class detected in the dataset).</p>\"))\n",
    "            return\n",
    "        \n",
    "        # Collect input values\n",
    "        input_values = []\n",
    "        for widget in input_widgets:\n",
    "            try:\n",
    "                value = float(widget.value)\n",
    "                input_values.append(value)\n",
    "            except ValueError:\n",
    "                display(HTML(f\"<p style='color: #e74c3c;'>Invalid input for {widget.description}. Please enter a valid number.</p>\"))\n",
    "                return\n",
    "        \n",
    "        # Create a DataFrame with feature names to match training\n",
    "        features = pd.DataFrame([input_values], columns=[0, 1, 2, 3, 4, 5, 6, 7, 8, 9, 10, 11, 12, 13])\n",
    "        \n",
    "        try:\n",
    "            # Scale the features\n",
    "            scaled_features = scaler.transform(features)\n",
    "            # Make prediction\n",
    "            prediction = model.predict(scaled_features)[0]\n",
    "            probability = model.predict_proba(scaled_features)[0]\n",
    "            \n",
    "            # Determine result and confidence\n",
    "            result = \"Stressed\" if prediction == 1 else \"Not Stressed\"\n",
    "            confidence = probability[1] if prediction == 1 else probability[0]\n",
    "            \n",
    "            # Display styled result\n",
    "            color = \"#e74c3c\" if prediction == 1 else \"#2ecc71\"\n",
    "            display(HTML(f\"\"\"\n",
    "                <div style='background-color: #f5f5f5; padding: 15px; border-radius: 5px;'>\n",
    "                    <h3 style='color: {color}; margin: 0;'>Prediction: {result}</h3>\n",
    "                    <p style='color: #333; margin: 5px 0 0 0;'>Confidence: {confidence:.2%}</p>\n",
    "                </div>\n",
    "            \"\"\"))\n",
    "        except Exception as e:\n",
    "            display(HTML(f\"<p style='color: #e74c3c;'>Error in prediction: {str(e)}</p>\"))\n",
    "\n",
    "# Connect the button to the prediction function\n",
    "predict_button.on_click(on_predict_button_clicked)\n",
    "\n",
    "# Display the GUI\n",
    "print(\"\\n11. Displaying Stress Prediction GUI (5/6):\")\n",
    "display(HTML(\"\"\"\n",
    "    <h2 style='color: #2c3e50;'>Stress Prediction GUI</h2>\n",
    "    <p style='color: #34495e;'>Enter the GSR feature values below and click 'Predict Stress' to see the result.</p>\n",
    "\"\"\"))\n",
    "for widget in input_widgets:\n",
    "    display(widget)\n",
    "display(predict_button)\n",
    "display(output)"
   ]
  }
 ],
 "metadata": {
  "kaggle": {
   "accelerator": "gpu",
   "dataSources": [
    {
     "datasetId": 6775341,
     "sourceId": 11631688,
     "sourceType": "datasetVersion"
    }
   ],
   "dockerImageVersionId": 30918,
   "isGpuEnabled": true,
   "isInternetEnabled": true,
   "language": "python",
   "sourceType": "notebook"
  },
  "kernelspec": {
   "display_name": "Python 3",
   "language": "python",
   "name": "python3"
  },
  "language_info": {
   "codemirror_mode": {
    "name": "ipython",
    "version": 3
   },
   "file_extension": ".py",
   "mimetype": "text/x-python",
   "name": "python",
   "nbconvert_exporter": "python",
   "pygments_lexer": "ipython3",
   "version": "3.10.12"
  },
  "papermill": {
   "default_parameters": {},
   "duration": 714.038638,
   "end_time": "2025-05-12T16:36:35.654749",
   "environment_variables": {},
   "exception": null,
   "input_path": "__notebook__.ipynb",
   "output_path": "__notebook__.ipynb",
   "parameters": {},
   "start_time": "2025-05-12T16:24:41.616111",
   "version": "2.6.0"
  },
  "widgets": {
   "application/vnd.jupyter.widget-state+json": {
    "state": {
     "00617b9ef24546088b1680d347978a2b": {
      "model_module": "@jupyter-widgets/base",
      "model_module_version": "2.0.0",
      "model_name": "LayoutModel",
      "state": {
       "_model_module": "@jupyter-widgets/base",
       "_model_module_version": "2.0.0",
       "_model_name": "LayoutModel",
       "_view_count": null,
       "_view_module": "@jupyter-widgets/base",
       "_view_module_version": "2.0.0",
       "_view_name": "LayoutView",
       "align_content": null,
       "align_items": null,
       "align_self": null,
       "border_bottom": null,
       "border_left": null,
       "border_right": null,
       "border_top": null,
       "bottom": null,
       "display": null,
       "flex": null,
       "flex_flow": null,
       "grid_area": null,
       "grid_auto_columns": null,
       "grid_auto_flow": null,
       "grid_auto_rows": null,
       "grid_column": null,
       "grid_gap": null,
       "grid_row": null,
       "grid_template_areas": null,
       "grid_template_columns": null,
       "grid_template_rows": null,
       "height": null,
       "justify_content": null,
       "justify_items": null,
       "left": null,
       "margin": null,
       "max_height": null,
       "max_width": null,
       "min_height": null,
       "min_width": null,
       "object_fit": null,
       "object_position": null,
       "order": null,
       "overflow": null,
       "padding": null,
       "right": null,
       "top": null,
       "visibility": null,
       "width": "400px"
      }
     },
     "0977d57659a342a0b4b529effc2332fc": {
      "model_module": "@jupyter-widgets/controls",
      "model_module_version": "2.0.0",
      "model_name": "FloatTextModel",
      "state": {
       "_dom_classes": [],
       "_model_module": "@jupyter-widgets/controls",
       "_model_module_version": "2.0.0",
       "_model_name": "FloatTextModel",
       "_view_count": null,
       "_view_module": "@jupyter-widgets/controls",
       "_view_module_version": "2.0.0",
       "_view_name": "FloatTextView",
       "continuous_update": false,
       "description": "Power 0.2-0.4Hz:",
       "description_allow_html": false,
       "disabled": false,
       "layout": "IPY_MODEL_14727bdc86324b9d983f9d4f0bccb0d9",
       "step": null,
       "style": "IPY_MODEL_d5f9b0a6c32b48049f1e68c9ea6ecd98",
       "tabbable": null,
       "tooltip": null,
       "value": 0.0
      }
     },
     "133ade3774464bb4979e4efc52d9c4d6": {
      "model_module": "@jupyter-widgets/controls",
      "model_module_version": "2.0.0",
      "model_name": "FloatTextModel",
      "state": {
       "_dom_classes": [],
       "_model_module": "@jupyter-widgets/controls",
       "_model_module_version": "2.0.0",
       "_model_name": "FloatTextModel",
       "_view_count": null,
       "_view_module": "@jupyter-widgets/controls",
       "_view_module_version": "2.0.0",
       "_view_name": "FloatTextView",
       "continuous_update": false,
       "description": "Phasic Mean:",
       "description_allow_html": false,
       "disabled": false,
       "layout": "IPY_MODEL_50cad4ac58ab49df830c419b767041e6",
       "step": null,
       "style": "IPY_MODEL_3b9ee24001c04019bef7b65a0b768b6e",
       "tabbable": null,
       "tooltip": null,
       "value": 0.0
      }
     },
     "14727bdc86324b9d983f9d4f0bccb0d9": {
      "model_module": "@jupyter-widgets/base",
      "model_module_version": "2.0.0",
      "model_name": "LayoutModel",
      "state": {
       "_model_module": "@jupyter-widgets/base",
       "_model_module_version": "2.0.0",
       "_model_name": "LayoutModel",
       "_view_count": null,
       "_view_module": "@jupyter-widgets/base",
       "_view_module_version": "2.0.0",
       "_view_name": "LayoutView",
       "align_content": null,
       "align_items": null,
       "align_self": null,
       "border_bottom": null,
       "border_left": null,
       "border_right": null,
       "border_top": null,
       "bottom": null,
       "display": null,
       "flex": null,
       "flex_flow": null,
       "grid_area": null,
       "grid_auto_columns": null,
       "grid_auto_flow": null,
       "grid_auto_rows": null,
       "grid_column": null,
       "grid_gap": null,
       "grid_row": null,
       "grid_template_areas": null,
       "grid_template_columns": null,
       "grid_template_rows": null,
       "height": null,
       "justify_content": null,
       "justify_items": null,
       "left": null,
       "margin": null,
       "max_height": null,
       "max_width": null,
       "min_height": null,
       "min_width": null,
       "object_fit": null,
       "object_position": null,
       "order": null,
       "overflow": null,
       "padding": null,
       "right": null,
       "top": null,
       "visibility": null,
       "width": "400px"
      }
     },
     "1f34d5b1ae944f39b7f3f0659614fbf6": {
      "model_module": "@jupyter-widgets/controls",
      "model_module_version": "2.0.0",
      "model_name": "DescriptionStyleModel",
      "state": {
       "_model_module": "@jupyter-widgets/controls",
       "_model_module_version": "2.0.0",
       "_model_name": "DescriptionStyleModel",
       "_view_count": null,
       "_view_module": "@jupyter-widgets/base",
       "_view_module_version": "2.0.0",
       "_view_name": "StyleView",
       "description_width": "initial"
      }
     },
     "210dc9086211440ea1e3b3cdfd3edb85": {
      "model_module": "@jupyter-widgets/base",
      "model_module_version": "2.0.0",
      "model_name": "LayoutModel",
      "state": {
       "_model_module": "@jupyter-widgets/base",
       "_model_module_version": "2.0.0",
       "_model_name": "LayoutModel",
       "_view_count": null,
       "_view_module": "@jupyter-widgets/base",
       "_view_module_version": "2.0.0",
       "_view_name": "LayoutView",
       "align_content": null,
       "align_items": null,
       "align_self": null,
       "border_bottom": null,
       "border_left": null,
       "border_right": null,
       "border_top": null,
       "bottom": null,
       "display": null,
       "flex": null,
       "flex_flow": null,
       "grid_area": null,
       "grid_auto_columns": null,
       "grid_auto_flow": null,
       "grid_auto_rows": null,
       "grid_column": null,
       "grid_gap": null,
       "grid_row": null,
       "grid_template_areas": null,
       "grid_template_columns": null,
       "grid_template_rows": null,
       "height": null,
       "justify_content": null,
       "justify_items": null,
       "left": null,
       "margin": null,
       "max_height": null,
       "max_width": null,
       "min_height": null,
       "min_width": null,
       "object_fit": null,
       "object_position": null,
       "order": null,
       "overflow": null,
       "padding": null,
       "right": null,
       "top": null,
       "visibility": null,
       "width": "400px"
      }
     },
     "2570fa01da8d49509a8d4b12c989fe2a": {
      "model_module": "@jupyter-widgets/controls",
      "model_module_version": "2.0.0",
      "model_name": "DescriptionStyleModel",
      "state": {
       "_model_module": "@jupyter-widgets/controls",
       "_model_module_version": "2.0.0",
       "_model_name": "DescriptionStyleModel",
       "_view_count": null,
       "_view_module": "@jupyter-widgets/base",
       "_view_module_version": "2.0.0",
       "_view_name": "StyleView",
       "description_width": "initial"
      }
     },
     "2c796e1431b2424fa83730db8486aa40": {
      "model_module": "@jupyter-widgets/base",
      "model_module_version": "2.0.0",
      "model_name": "LayoutModel",
      "state": {
       "_model_module": "@jupyter-widgets/base",
       "_model_module_version": "2.0.0",
       "_model_name": "LayoutModel",
       "_view_count": null,
       "_view_module": "@jupyter-widgets/base",
       "_view_module_version": "2.0.0",
       "_view_name": "LayoutView",
       "align_content": null,
       "align_items": null,
       "align_self": null,
       "border_bottom": null,
       "border_left": null,
       "border_right": null,
       "border_top": null,
       "bottom": null,
       "display": null,
       "flex": null,
       "flex_flow": null,
       "grid_area": null,
       "grid_auto_columns": null,
       "grid_auto_flow": null,
       "grid_auto_rows": null,
       "grid_column": null,
       "grid_gap": null,
       "grid_row": null,
       "grid_template_areas": null,
       "grid_template_columns": null,
       "grid_template_rows": null,
       "height": null,
       "justify_content": null,
       "justify_items": null,
       "left": null,
       "margin": null,
       "max_height": null,
       "max_width": null,
       "min_height": null,
       "min_width": null,
       "object_fit": null,
       "object_position": null,
       "order": null,
       "overflow": null,
       "padding": null,
       "right": null,
       "top": null,
       "visibility": null,
       "width": "400px"
      }
     },
     "2e1e2d2d23f04bc6b8533fdc108caccf": {
      "model_module": "@jupyter-widgets/controls",
      "model_module_version": "2.0.0",
      "model_name": "FloatTextModel",
      "state": {
       "_dom_classes": [],
       "_model_module": "@jupyter-widgets/controls",
       "_model_module_version": "2.0.0",
       "_model_name": "FloatTextModel",
       "_view_count": null,
       "_view_module": "@jupyter-widgets/controls",
       "_view_module_version": "2.0.0",
       "_view_name": "FloatTextView",
       "continuous_update": false,
       "description": "Dominant Frequency:",
       "description_allow_html": false,
       "disabled": false,
       "layout": "IPY_MODEL_e700033b1187408a9e4eab917aad779f",
       "step": null,
       "style": "IPY_MODEL_d095825c9afa47b49c333721dde8ac7f",
       "tabbable": null,
       "tooltip": null,
       "value": 0.0
      }
     },
     "30935bc413ac4648b9fc374ed54a8f8a": {
      "model_module": "@jupyter-widgets/controls",
      "model_module_version": "2.0.0",
      "model_name": "DescriptionStyleModel",
      "state": {
       "_model_module": "@jupyter-widgets/controls",
       "_model_module_version": "2.0.0",
       "_model_name": "DescriptionStyleModel",
       "_view_count": null,
       "_view_module": "@jupyter-widgets/base",
       "_view_module_version": "2.0.0",
       "_view_name": "StyleView",
       "description_width": "initial"
      }
     },
     "3a55389dcad14a29a5f225a7130081c7": {
      "model_module": "@jupyter-widgets/controls",
      "model_module_version": "2.0.0",
      "model_name": "DescriptionStyleModel",
      "state": {
       "_model_module": "@jupyter-widgets/controls",
       "_model_module_version": "2.0.0",
       "_model_name": "DescriptionStyleModel",
       "_view_count": null,
       "_view_module": "@jupyter-widgets/base",
       "_view_module_version": "2.0.0",
       "_view_name": "StyleView",
       "description_width": "initial"
      }
     },
     "3b9ee24001c04019bef7b65a0b768b6e": {
      "model_module": "@jupyter-widgets/controls",
      "model_module_version": "2.0.0",
      "model_name": "DescriptionStyleModel",
      "state": {
       "_model_module": "@jupyter-widgets/controls",
       "_model_module_version": "2.0.0",
       "_model_name": "DescriptionStyleModel",
       "_view_count": null,
       "_view_module": "@jupyter-widgets/base",
       "_view_module_version": "2.0.0",
       "_view_name": "StyleView",
       "description_width": "initial"
      }
     },
     "3ec5394fdc2b4aa5b910028530a0b889": {
      "model_module": "@jupyter-widgets/controls",
      "model_module_version": "2.0.0",
      "model_name": "DescriptionStyleModel",
      "state": {
       "_model_module": "@jupyter-widgets/controls",
       "_model_module_version": "2.0.0",
       "_model_name": "DescriptionStyleModel",
       "_view_count": null,
       "_view_module": "@jupyter-widgets/base",
       "_view_module_version": "2.0.0",
       "_view_name": "StyleView",
       "description_width": "initial"
      }
     },
     "407240563eb3499fa2ce6a30ff94b60c": {
      "model_module": "@jupyter-widgets/base",
      "model_module_version": "2.0.0",
      "model_name": "LayoutModel",
      "state": {
       "_model_module": "@jupyter-widgets/base",
       "_model_module_version": "2.0.0",
       "_model_name": "LayoutModel",
       "_view_count": null,
       "_view_module": "@jupyter-widgets/base",
       "_view_module_version": "2.0.0",
       "_view_name": "LayoutView",
       "align_content": null,
       "align_items": null,
       "align_self": null,
       "border_bottom": null,
       "border_left": null,
       "border_right": null,
       "border_top": null,
       "bottom": null,
       "display": null,
       "flex": null,
       "flex_flow": null,
       "grid_area": null,
       "grid_auto_columns": null,
       "grid_auto_flow": null,
       "grid_auto_rows": null,
       "grid_column": null,
       "grid_gap": null,
       "grid_row": null,
       "grid_template_areas": null,
       "grid_template_columns": null,
       "grid_template_rows": null,
       "height": null,
       "justify_content": null,
       "justify_items": null,
       "left": null,
       "margin": null,
       "max_height": null,
       "max_width": null,
       "min_height": null,
       "min_width": null,
       "object_fit": null,
       "object_position": null,
       "order": null,
       "overflow": null,
       "padding": null,
       "right": null,
       "top": null,
       "visibility": null,
       "width": null
      }
     },
     "4b177655c9254c9080fb03fc010c2e5d": {
      "model_module": "@jupyter-widgets/base",
      "model_module_version": "2.0.0",
      "model_name": "LayoutModel",
      "state": {
       "_model_module": "@jupyter-widgets/base",
       "_model_module_version": "2.0.0",
       "_model_name": "LayoutModel",
       "_view_count": null,
       "_view_module": "@jupyter-widgets/base",
       "_view_module_version": "2.0.0",
       "_view_name": "LayoutView",
       "align_content": null,
       "align_items": null,
       "align_self": null,
       "border_bottom": null,
       "border_left": null,
       "border_right": null,
       "border_top": null,
       "bottom": null,
       "display": null,
       "flex": null,
       "flex_flow": null,
       "grid_area": null,
       "grid_auto_columns": null,
       "grid_auto_flow": null,
       "grid_auto_rows": null,
       "grid_column": null,
       "grid_gap": null,
       "grid_row": null,
       "grid_template_areas": null,
       "grid_template_columns": null,
       "grid_template_rows": null,
       "height": null,
       "justify_content": null,
       "justify_items": null,
       "left": null,
       "margin": null,
       "max_height": null,
       "max_width": null,
       "min_height": null,
       "min_width": null,
       "object_fit": null,
       "object_position": null,
       "order": null,
       "overflow": null,
       "padding": null,
       "right": null,
       "top": null,
       "visibility": null,
       "width": "400px"
      }
     },
     "5023645513f44c46ac55b196bc99d18b": {
      "model_module": "@jupyter-widgets/controls",
      "model_module_version": "2.0.0",
      "model_name": "FloatTextModel",
      "state": {
       "_dom_classes": [],
       "_model_module": "@jupyter-widgets/controls",
       "_model_module_version": "2.0.0",
       "_model_name": "FloatTextModel",
       "_view_count": null,
       "_view_module": "@jupyter-widgets/controls",
       "_view_module_version": "2.0.0",
       "_view_name": "FloatTextView",
       "continuous_update": false,
       "description": "Power 0-0.1Hz:",
       "description_allow_html": false,
       "disabled": false,
       "layout": "IPY_MODEL_dd22679a2a9a45c7b48c93a26130814c",
       "step": null,
       "style": "IPY_MODEL_3a55389dcad14a29a5f225a7130081c7",
       "tabbable": null,
       "tooltip": null,
       "value": 0.0
      }
     },
     "50cad4ac58ab49df830c419b767041e6": {
      "model_module": "@jupyter-widgets/base",
      "model_module_version": "2.0.0",
      "model_name": "LayoutModel",
      "state": {
       "_model_module": "@jupyter-widgets/base",
       "_model_module_version": "2.0.0",
       "_model_name": "LayoutModel",
       "_view_count": null,
       "_view_module": "@jupyter-widgets/base",
       "_view_module_version": "2.0.0",
       "_view_name": "LayoutView",
       "align_content": null,
       "align_items": null,
       "align_self": null,
       "border_bottom": null,
       "border_left": null,
       "border_right": null,
       "border_top": null,
       "bottom": null,
       "display": null,
       "flex": null,
       "flex_flow": null,
       "grid_area": null,
       "grid_auto_columns": null,
       "grid_auto_flow": null,
       "grid_auto_rows": null,
       "grid_column": null,
       "grid_gap": null,
       "grid_row": null,
       "grid_template_areas": null,
       "grid_template_columns": null,
       "grid_template_rows": null,
       "height": null,
       "justify_content": null,
       "justify_items": null,
       "left": null,
       "margin": null,
       "max_height": null,
       "max_width": null,
       "min_height": null,
       "min_width": null,
       "object_fit": null,
       "object_position": null,
       "order": null,
       "overflow": null,
       "padding": null,
       "right": null,
       "top": null,
       "visibility": null,
       "width": "400px"
      }
     },
     "57ca4f25092847828d9500095b849e45": {
      "model_module": "@jupyter-widgets/controls",
      "model_module_version": "2.0.0",
      "model_name": "DescriptionStyleModel",
      "state": {
       "_model_module": "@jupyter-widgets/controls",
       "_model_module_version": "2.0.0",
       "_model_name": "DescriptionStyleModel",
       "_view_count": null,
       "_view_module": "@jupyter-widgets/base",
       "_view_module_version": "2.0.0",
       "_view_name": "StyleView",
       "description_width": "initial"
      }
     },
     "5b55f99099374ac6aeb1570de7cd6fde": {
      "model_module": "@jupyter-widgets/controls",
      "model_module_version": "2.0.0",
      "model_name": "FloatTextModel",
      "state": {
       "_dom_classes": [],
       "_model_module": "@jupyter-widgets/controls",
       "_model_module_version": "2.0.0",
       "_model_name": "FloatTextModel",
       "_view_count": null,
       "_view_module": "@jupyter-widgets/controls",
       "_view_module_version": "2.0.0",
       "_view_name": "FloatTextView",
       "continuous_update": false,
       "description": "Mean GSR:",
       "description_allow_html": false,
       "disabled": false,
       "layout": "IPY_MODEL_210dc9086211440ea1e3b3cdfd3edb85",
       "step": null,
       "style": "IPY_MODEL_e02eca4601a347bd885168190d9ec566",
       "tabbable": null,
       "tooltip": null,
       "value": 0.0
      }
     },
     "5c660f0e322744b393ef89a63332e763": {
      "model_module": "@jupyter-widgets/base",
      "model_module_version": "2.0.0",
      "model_name": "LayoutModel",
      "state": {
       "_model_module": "@jupyter-widgets/base",
       "_model_module_version": "2.0.0",
       "_model_name": "LayoutModel",
       "_view_count": null,
       "_view_module": "@jupyter-widgets/base",
       "_view_module_version": "2.0.0",
       "_view_name": "LayoutView",
       "align_content": null,
       "align_items": null,
       "align_self": null,
       "border_bottom": null,
       "border_left": null,
       "border_right": null,
       "border_top": null,
       "bottom": null,
       "display": null,
       "flex": null,
       "flex_flow": null,
       "grid_area": null,
       "grid_auto_columns": null,
       "grid_auto_flow": null,
       "grid_auto_rows": null,
       "grid_column": null,
       "grid_gap": null,
       "grid_row": null,
       "grid_template_areas": null,
       "grid_template_columns": null,
       "grid_template_rows": null,
       "height": null,
       "justify_content": null,
       "justify_items": null,
       "left": null,
       "margin": null,
       "max_height": null,
       "max_width": null,
       "min_height": null,
       "min_width": null,
       "object_fit": null,
       "object_position": null,
       "order": null,
       "overflow": null,
       "padding": null,
       "right": null,
       "top": null,
       "visibility": null,
       "width": "400px"
      }
     },
     "60dbfc85fe97417cbf9c988af9d95967": {
      "model_module": "@jupyter-widgets/base",
      "model_module_version": "2.0.0",
      "model_name": "LayoutModel",
      "state": {
       "_model_module": "@jupyter-widgets/base",
       "_model_module_version": "2.0.0",
       "_model_name": "LayoutModel",
       "_view_count": null,
       "_view_module": "@jupyter-widgets/base",
       "_view_module_version": "2.0.0",
       "_view_name": "LayoutView",
       "align_content": null,
       "align_items": null,
       "align_self": null,
       "border_bottom": null,
       "border_left": null,
       "border_right": null,
       "border_top": null,
       "bottom": null,
       "display": null,
       "flex": null,
       "flex_flow": null,
       "grid_area": null,
       "grid_auto_columns": null,
       "grid_auto_flow": null,
       "grid_auto_rows": null,
       "grid_column": null,
       "grid_gap": null,
       "grid_row": null,
       "grid_template_areas": null,
       "grid_template_columns": null,
       "grid_template_rows": null,
       "height": null,
       "justify_content": null,
       "justify_items": null,
       "left": null,
       "margin": null,
       "max_height": null,
       "max_width": null,
       "min_height": null,
       "min_width": null,
       "object_fit": null,
       "object_position": null,
       "order": null,
       "overflow": null,
       "padding": null,
       "right": null,
       "top": null,
       "visibility": null,
       "width": "400px"
      }
     },
     "72c92e403c7d4255a80fcdedc41534b5": {
      "model_module": "@jupyter-widgets/base",
      "model_module_version": "2.0.0",
      "model_name": "LayoutModel",
      "state": {
       "_model_module": "@jupyter-widgets/base",
       "_model_module_version": "2.0.0",
       "_model_name": "LayoutModel",
       "_view_count": null,
       "_view_module": "@jupyter-widgets/base",
       "_view_module_version": "2.0.0",
       "_view_name": "LayoutView",
       "align_content": null,
       "align_items": null,
       "align_self": null,
       "border_bottom": null,
       "border_left": null,
       "border_right": null,
       "border_top": null,
       "bottom": null,
       "display": null,
       "flex": null,
       "flex_flow": null,
       "grid_area": null,
       "grid_auto_columns": null,
       "grid_auto_flow": null,
       "grid_auto_rows": null,
       "grid_column": null,
       "grid_gap": null,
       "grid_row": null,
       "grid_template_areas": null,
       "grid_template_columns": null,
       "grid_template_rows": null,
       "height": null,
       "justify_content": null,
       "justify_items": null,
       "left": null,
       "margin": null,
       "max_height": null,
       "max_width": null,
       "min_height": null,
       "min_width": null,
       "object_fit": null,
       "object_position": null,
       "order": null,
       "overflow": null,
       "padding": null,
       "right": null,
       "top": null,
       "visibility": null,
       "width": "400px"
      }
     },
     "72db2bdffba74df090a94571ff645d7b": {
      "model_module": "@jupyter-widgets/base",
      "model_module_version": "2.0.0",
      "model_name": "LayoutModel",
      "state": {
       "_model_module": "@jupyter-widgets/base",
       "_model_module_version": "2.0.0",
       "_model_name": "LayoutModel",
       "_view_count": null,
       "_view_module": "@jupyter-widgets/base",
       "_view_module_version": "2.0.0",
       "_view_name": "LayoutView",
       "align_content": null,
       "align_items": null,
       "align_self": null,
       "border_bottom": null,
       "border_left": null,
       "border_right": null,
       "border_top": null,
       "bottom": null,
       "display": null,
       "flex": null,
       "flex_flow": null,
       "grid_area": null,
       "grid_auto_columns": null,
       "grid_auto_flow": null,
       "grid_auto_rows": null,
       "grid_column": null,
       "grid_gap": null,
       "grid_row": null,
       "grid_template_areas": null,
       "grid_template_columns": null,
       "grid_template_rows": null,
       "height": null,
       "justify_content": null,
       "justify_items": null,
       "left": null,
       "margin": null,
       "max_height": null,
       "max_width": null,
       "min_height": null,
       "min_width": null,
       "object_fit": null,
       "object_position": null,
       "order": null,
       "overflow": null,
       "padding": null,
       "right": null,
       "top": null,
       "visibility": null,
       "width": "400px"
      }
     },
     "7c1abf1f02d54362b1e145dd2f4e584d": {
      "model_module": "@jupyter-widgets/controls",
      "model_module_version": "2.0.0",
      "model_name": "FloatTextModel",
      "state": {
       "_dom_classes": [],
       "_model_module": "@jupyter-widgets/controls",
       "_model_module_version": "2.0.0",
       "_model_name": "FloatTextModel",
       "_view_count": null,
       "_view_module": "@jupyter-widgets/controls",
       "_view_module_version": "2.0.0",
       "_view_name": "FloatTextView",
       "continuous_update": false,
       "description": "Min GSR:",
       "description_allow_html": false,
       "disabled": false,
       "layout": "IPY_MODEL_2c796e1431b2424fa83730db8486aa40",
       "step": null,
       "style": "IPY_MODEL_30935bc413ac4648b9fc374ed54a8f8a",
       "tabbable": null,
       "tooltip": null,
       "value": 0.0
      }
     },
     "7fdbc97fdc754a53b0ce9f7ff22162bf": {
      "model_module": "@jupyter-widgets/controls",
      "model_module_version": "2.0.0",
      "model_name": "FloatTextModel",
      "state": {
       "_dom_classes": [],
       "_model_module": "@jupyter-widgets/controls",
       "_model_module_version": "2.0.0",
       "_model_name": "FloatTextModel",
       "_view_count": null,
       "_view_module": "@jupyter-widgets/controls",
       "_view_module_version": "2.0.0",
       "_view_name": "FloatTextView",
       "continuous_update": false,
       "description": "Total Power:",
       "description_allow_html": false,
       "disabled": false,
       "layout": "IPY_MODEL_9c82bfb8403b42f781b7695e0499be81",
       "step": null,
       "style": "IPY_MODEL_9f9223aaa83c413a9c679ec6b6c2686e",
       "tabbable": null,
       "tooltip": null,
       "value": 0.0
      }
     },
     "9c82bfb8403b42f781b7695e0499be81": {
      "model_module": "@jupyter-widgets/base",
      "model_module_version": "2.0.0",
      "model_name": "LayoutModel",
      "state": {
       "_model_module": "@jupyter-widgets/base",
       "_model_module_version": "2.0.0",
       "_model_name": "LayoutModel",
       "_view_count": null,
       "_view_module": "@jupyter-widgets/base",
       "_view_module_version": "2.0.0",
       "_view_name": "LayoutView",
       "align_content": null,
       "align_items": null,
       "align_self": null,
       "border_bottom": null,
       "border_left": null,
       "border_right": null,
       "border_top": null,
       "bottom": null,
       "display": null,
       "flex": null,
       "flex_flow": null,
       "grid_area": null,
       "grid_auto_columns": null,
       "grid_auto_flow": null,
       "grid_auto_rows": null,
       "grid_column": null,
       "grid_gap": null,
       "grid_row": null,
       "grid_template_areas": null,
       "grid_template_columns": null,
       "grid_template_rows": null,
       "height": null,
       "justify_content": null,
       "justify_items": null,
       "left": null,
       "margin": null,
       "max_height": null,
       "max_width": null,
       "min_height": null,
       "min_width": null,
       "object_fit": null,
       "object_position": null,
       "order": null,
       "overflow": null,
       "padding": null,
       "right": null,
       "top": null,
       "visibility": null,
       "width": "400px"
      }
     },
     "9e7d375222134bfcbe0c169d4444ae38": {
      "model_module": "@jupyter-widgets/controls",
      "model_module_version": "2.0.0",
      "model_name": "DescriptionStyleModel",
      "state": {
       "_model_module": "@jupyter-widgets/controls",
       "_model_module_version": "2.0.0",
       "_model_name": "DescriptionStyleModel",
       "_view_count": null,
       "_view_module": "@jupyter-widgets/base",
       "_view_module_version": "2.0.0",
       "_view_name": "StyleView",
       "description_width": "initial"
      }
     },
     "9f9223aaa83c413a9c679ec6b6c2686e": {
      "model_module": "@jupyter-widgets/controls",
      "model_module_version": "2.0.0",
      "model_name": "DescriptionStyleModel",
      "state": {
       "_model_module": "@jupyter-widgets/controls",
       "_model_module_version": "2.0.0",
       "_model_name": "DescriptionStyleModel",
       "_view_count": null,
       "_view_module": "@jupyter-widgets/base",
       "_view_module_version": "2.0.0",
       "_view_name": "StyleView",
       "description_width": "initial"
      }
     },
     "a13b3f8b0aa54f60a77bea46edc23397": {
      "model_module": "@jupyter-widgets/controls",
      "model_module_version": "2.0.0",
      "model_name": "FloatTextModel",
      "state": {
       "_dom_classes": [],
       "_model_module": "@jupyter-widgets/controls",
       "_model_module_version": "2.0.0",
       "_model_name": "FloatTextModel",
       "_view_count": null,
       "_view_module": "@jupyter-widgets/controls",
       "_view_module_version": "2.0.0",
       "_view_name": "FloatTextView",
       "continuous_update": false,
       "description": "Std Dev GSR:",
       "description_allow_html": false,
       "disabled": false,
       "layout": "IPY_MODEL_c6a44ecc52f749e0beccf29b079b88a4",
       "step": null,
       "style": "IPY_MODEL_c86a3341b2644e4ca87e6b0e0695cb2d",
       "tabbable": null,
       "tooltip": null,
       "value": 0.0
      }
     },
     "a4da89df0f02495a93b28654ed0e70e0": {
      "model_module": "@jupyter-widgets/controls",
      "model_module_version": "2.0.0",
      "model_name": "FloatTextModel",
      "state": {
       "_dom_classes": [],
       "_model_module": "@jupyter-widgets/controls",
       "_model_module_version": "2.0.0",
       "_model_name": "FloatTextModel",
       "_view_count": null,
       "_view_module": "@jupyter-widgets/controls",
       "_view_module_version": "2.0.0",
       "_view_name": "FloatTextView",
       "continuous_update": false,
       "description": "Kurtosis:",
       "description_allow_html": false,
       "disabled": false,
       "layout": "IPY_MODEL_60dbfc85fe97417cbf9c988af9d95967",
       "step": null,
       "style": "IPY_MODEL_57ca4f25092847828d9500095b849e45",
       "tabbable": null,
       "tooltip": null,
       "value": 0.0
      }
     },
     "acb9367746ee421aa6be71ddd427ac9e": {
      "model_module": "@jupyter-widgets/controls",
      "model_module_version": "2.0.0",
      "model_name": "ButtonStyleModel",
      "state": {
       "_model_module": "@jupyter-widgets/controls",
       "_model_module_version": "2.0.0",
       "_model_name": "ButtonStyleModel",
       "_view_count": null,
       "_view_module": "@jupyter-widgets/base",
       "_view_module_version": "2.0.0",
       "_view_name": "StyleView",
       "button_color": null,
       "font_family": null,
       "font_size": null,
       "font_style": null,
       "font_variant": null,
       "font_weight": null,
       "text_color": null,
       "text_decoration": null
      }
     },
     "b54c6ec7211648aa8ba8868600b8c873": {
      "model_module": "@jupyter-widgets/controls",
      "model_module_version": "2.0.0",
      "model_name": "FloatTextModel",
      "state": {
       "_dom_classes": [],
       "_model_module": "@jupyter-widgets/controls",
       "_model_module_version": "2.0.0",
       "_model_name": "FloatTextModel",
       "_view_count": null,
       "_view_module": "@jupyter-widgets/controls",
       "_view_module_version": "2.0.0",
       "_view_name": "FloatTextView",
       "continuous_update": false,
       "description": "Skewness:",
       "description_allow_html": false,
       "disabled": false,
       "layout": "IPY_MODEL_72db2bdffba74df090a94571ff645d7b",
       "step": null,
       "style": "IPY_MODEL_1f34d5b1ae944f39b7f3f0659614fbf6",
       "tabbable": null,
       "tooltip": null,
       "value": 0.0
      }
     },
     "c6a44ecc52f749e0beccf29b079b88a4": {
      "model_module": "@jupyter-widgets/base",
      "model_module_version": "2.0.0",
      "model_name": "LayoutModel",
      "state": {
       "_model_module": "@jupyter-widgets/base",
       "_model_module_version": "2.0.0",
       "_model_name": "LayoutModel",
       "_view_count": null,
       "_view_module": "@jupyter-widgets/base",
       "_view_module_version": "2.0.0",
       "_view_name": "LayoutView",
       "align_content": null,
       "align_items": null,
       "align_self": null,
       "border_bottom": null,
       "border_left": null,
       "border_right": null,
       "border_top": null,
       "bottom": null,
       "display": null,
       "flex": null,
       "flex_flow": null,
       "grid_area": null,
       "grid_auto_columns": null,
       "grid_auto_flow": null,
       "grid_auto_rows": null,
       "grid_column": null,
       "grid_gap": null,
       "grid_row": null,
       "grid_template_areas": null,
       "grid_template_columns": null,
       "grid_template_rows": null,
       "height": null,
       "justify_content": null,
       "justify_items": null,
       "left": null,
       "margin": null,
       "max_height": null,
       "max_width": null,
       "min_height": null,
       "min_width": null,
       "object_fit": null,
       "object_position": null,
       "order": null,
       "overflow": null,
       "padding": null,
       "right": null,
       "top": null,
       "visibility": null,
       "width": "400px"
      }
     },
     "c86a3341b2644e4ca87e6b0e0695cb2d": {
      "model_module": "@jupyter-widgets/controls",
      "model_module_version": "2.0.0",
      "model_name": "DescriptionStyleModel",
      "state": {
       "_model_module": "@jupyter-widgets/controls",
       "_model_module_version": "2.0.0",
       "_model_name": "DescriptionStyleModel",
       "_view_count": null,
       "_view_module": "@jupyter-widgets/base",
       "_view_module_version": "2.0.0",
       "_view_name": "StyleView",
       "description_width": "initial"
      }
     },
     "d095825c9afa47b49c333721dde8ac7f": {
      "model_module": "@jupyter-widgets/controls",
      "model_module_version": "2.0.0",
      "model_name": "DescriptionStyleModel",
      "state": {
       "_model_module": "@jupyter-widgets/controls",
       "_model_module_version": "2.0.0",
       "_model_name": "DescriptionStyleModel",
       "_view_count": null,
       "_view_module": "@jupyter-widgets/base",
       "_view_module_version": "2.0.0",
       "_view_name": "StyleView",
       "description_width": "initial"
      }
     },
     "d5f9b0a6c32b48049f1e68c9ea6ecd98": {
      "model_module": "@jupyter-widgets/controls",
      "model_module_version": "2.0.0",
      "model_name": "DescriptionStyleModel",
      "state": {
       "_model_module": "@jupyter-widgets/controls",
       "_model_module_version": "2.0.0",
       "_model_name": "DescriptionStyleModel",
       "_view_count": null,
       "_view_module": "@jupyter-widgets/base",
       "_view_module_version": "2.0.0",
       "_view_name": "StyleView",
       "description_width": "initial"
      }
     },
     "d8591c130c474847a7f2385e78120588": {
      "model_module": "@jupyter-widgets/base",
      "model_module_version": "2.0.0",
      "model_name": "LayoutModel",
      "state": {
       "_model_module": "@jupyter-widgets/base",
       "_model_module_version": "2.0.0",
       "_model_name": "LayoutModel",
       "_view_count": null,
       "_view_module": "@jupyter-widgets/base",
       "_view_module_version": "2.0.0",
       "_view_name": "LayoutView",
       "align_content": null,
       "align_items": null,
       "align_self": null,
       "border_bottom": null,
       "border_left": null,
       "border_right": null,
       "border_top": null,
       "bottom": null,
       "display": null,
       "flex": null,
       "flex_flow": null,
       "grid_area": null,
       "grid_auto_columns": null,
       "grid_auto_flow": null,
       "grid_auto_rows": null,
       "grid_column": null,
       "grid_gap": null,
       "grid_row": null,
       "grid_template_areas": null,
       "grid_template_columns": null,
       "grid_template_rows": null,
       "height": null,
       "justify_content": null,
       "justify_items": null,
       "left": null,
       "margin": "10px 0",
       "max_height": null,
       "max_width": null,
       "min_height": null,
       "min_width": null,
       "object_fit": null,
       "object_position": null,
       "order": null,
       "overflow": null,
       "padding": null,
       "right": null,
       "top": null,
       "visibility": null,
       "width": "200px"
      }
     },
     "d90b37d3575a433f9980d28d25344ccd": {
      "model_module": "@jupyter-widgets/controls",
      "model_module_version": "2.0.0",
      "model_name": "FloatTextModel",
      "state": {
       "_dom_classes": [],
       "_model_module": "@jupyter-widgets/controls",
       "_model_module_version": "2.0.0",
       "_model_name": "FloatTextModel",
       "_view_count": null,
       "_view_module": "@jupyter-widgets/controls",
       "_view_module_version": "2.0.0",
       "_view_name": "FloatTextView",
       "continuous_update": false,
       "description": "SCR Count:",
       "description_allow_html": false,
       "disabled": false,
       "layout": "IPY_MODEL_72c92e403c7d4255a80fcdedc41534b5",
       "step": null,
       "style": "IPY_MODEL_3ec5394fdc2b4aa5b910028530a0b889",
       "tabbable": null,
       "tooltip": null,
       "value": 0.0
      }
     },
     "dd22679a2a9a45c7b48c93a26130814c": {
      "model_module": "@jupyter-widgets/base",
      "model_module_version": "2.0.0",
      "model_name": "LayoutModel",
      "state": {
       "_model_module": "@jupyter-widgets/base",
       "_model_module_version": "2.0.0",
       "_model_name": "LayoutModel",
       "_view_count": null,
       "_view_module": "@jupyter-widgets/base",
       "_view_module_version": "2.0.0",
       "_view_name": "LayoutView",
       "align_content": null,
       "align_items": null,
       "align_self": null,
       "border_bottom": null,
       "border_left": null,
       "border_right": null,
       "border_top": null,
       "bottom": null,
       "display": null,
       "flex": null,
       "flex_flow": null,
       "grid_area": null,
       "grid_auto_columns": null,
       "grid_auto_flow": null,
       "grid_auto_rows": null,
       "grid_column": null,
       "grid_gap": null,
       "grid_row": null,
       "grid_template_areas": null,
       "grid_template_columns": null,
       "grid_template_rows": null,
       "height": null,
       "justify_content": null,
       "justify_items": null,
       "left": null,
       "margin": null,
       "max_height": null,
       "max_width": null,
       "min_height": null,
       "min_width": null,
       "object_fit": null,
       "object_position": null,
       "order": null,
       "overflow": null,
       "padding": null,
       "right": null,
       "top": null,
       "visibility": null,
       "width": "400px"
      }
     },
     "dea72aa65db44bf4976dee27ce181e67": {
      "model_module": "@jupyter-widgets/controls",
      "model_module_version": "2.0.0",
      "model_name": "ButtonModel",
      "state": {
       "_dom_classes": [],
       "_model_module": "@jupyter-widgets/controls",
       "_model_module_version": "2.0.0",
       "_model_name": "ButtonModel",
       "_view_count": null,
       "_view_module": "@jupyter-widgets/controls",
       "_view_module_version": "2.0.0",
       "_view_name": "ButtonView",
       "button_style": "success",
       "description": "Predict Stress",
       "disabled": false,
       "icon": "",
       "layout": "IPY_MODEL_d8591c130c474847a7f2385e78120588",
       "style": "IPY_MODEL_acb9367746ee421aa6be71ddd427ac9e",
       "tabbable": null,
       "tooltip": "Click to predict stress level"
      }
     },
     "df2dd753e7ca4151a4bd0efa1d714d5c": {
      "model_module": "@jupyter-widgets/controls",
      "model_module_version": "2.0.0",
      "model_name": "FloatTextModel",
      "state": {
       "_dom_classes": [],
       "_model_module": "@jupyter-widgets/controls",
       "_model_module_version": "2.0.0",
       "_model_name": "FloatTextModel",
       "_view_count": null,
       "_view_module": "@jupyter-widgets/controls",
       "_view_module_version": "2.0.0",
       "_view_name": "FloatTextView",
       "continuous_update": false,
       "description": "Max GSR:",
       "description_allow_html": false,
       "disabled": false,
       "layout": "IPY_MODEL_5c660f0e322744b393ef89a63332e763",
       "step": null,
       "style": "IPY_MODEL_2570fa01da8d49509a8d4b12c989fe2a",
       "tabbable": null,
       "tooltip": null,
       "value": 0.0
      }
     },
     "e02eca4601a347bd885168190d9ec566": {
      "model_module": "@jupyter-widgets/controls",
      "model_module_version": "2.0.0",
      "model_name": "DescriptionStyleModel",
      "state": {
       "_model_module": "@jupyter-widgets/controls",
       "_model_module_version": "2.0.0",
       "_model_name": "DescriptionStyleModel",
       "_view_count": null,
       "_view_module": "@jupyter-widgets/base",
       "_view_module_version": "2.0.0",
       "_view_name": "StyleView",
       "description_width": "initial"
      }
     },
     "e394d9382cc8452cac48cd397363b194": {
      "model_module": "@jupyter-widgets/controls",
      "model_module_version": "2.0.0",
      "model_name": "FloatTextModel",
      "state": {
       "_dom_classes": [],
       "_model_module": "@jupyter-widgets/controls",
       "_model_module_version": "2.0.0",
       "_model_name": "FloatTextModel",
       "_view_count": null,
       "_view_module": "@jupyter-widgets/controls",
       "_view_module_version": "2.0.0",
       "_view_name": "FloatTextView",
       "continuous_update": false,
       "description": "Phasic Std:",
       "description_allow_html": false,
       "disabled": false,
       "layout": "IPY_MODEL_4b177655c9254c9080fb03fc010c2e5d",
       "step": null,
       "style": "IPY_MODEL_e849a86b6ebc4e88bf728fbb6513b3d7",
       "tabbable": null,
       "tooltip": null,
       "value": 0.0
      }
     },
     "e700033b1187408a9e4eab917aad779f": {
      "model_module": "@jupyter-widgets/base",
      "model_module_version": "2.0.0",
      "model_name": "LayoutModel",
      "state": {
       "_model_module": "@jupyter-widgets/base",
       "_model_module_version": "2.0.0",
       "_model_name": "LayoutModel",
       "_view_count": null,
       "_view_module": "@jupyter-widgets/base",
       "_view_module_version": "2.0.0",
       "_view_name": "LayoutView",
       "align_content": null,
       "align_items": null,
       "align_self": null,
       "border_bottom": null,
       "border_left": null,
       "border_right": null,
       "border_top": null,
       "bottom": null,
       "display": null,
       "flex": null,
       "flex_flow": null,
       "grid_area": null,
       "grid_auto_columns": null,
       "grid_auto_flow": null,
       "grid_auto_rows": null,
       "grid_column": null,
       "grid_gap": null,
       "grid_row": null,
       "grid_template_areas": null,
       "grid_template_columns": null,
       "grid_template_rows": null,
       "height": null,
       "justify_content": null,
       "justify_items": null,
       "left": null,
       "margin": null,
       "max_height": null,
       "max_width": null,
       "min_height": null,
       "min_width": null,
       "object_fit": null,
       "object_position": null,
       "order": null,
       "overflow": null,
       "padding": null,
       "right": null,
       "top": null,
       "visibility": null,
       "width": "400px"
      }
     },
     "e849a86b6ebc4e88bf728fbb6513b3d7": {
      "model_module": "@jupyter-widgets/controls",
      "model_module_version": "2.0.0",
      "model_name": "DescriptionStyleModel",
      "state": {
       "_model_module": "@jupyter-widgets/controls",
       "_model_module_version": "2.0.0",
       "_model_name": "DescriptionStyleModel",
       "_view_count": null,
       "_view_module": "@jupyter-widgets/base",
       "_view_module_version": "2.0.0",
       "_view_name": "StyleView",
       "description_width": "initial"
      }
     },
     "e8d33fe8b9c140da99fe18b77bb96fc8": {
      "model_module": "@jupyter-widgets/output",
      "model_module_version": "1.0.0",
      "model_name": "OutputModel",
      "state": {
       "_dom_classes": [],
       "_model_module": "@jupyter-widgets/output",
       "_model_module_version": "1.0.0",
       "_model_name": "OutputModel",
       "_view_count": null,
       "_view_module": "@jupyter-widgets/output",
       "_view_module_version": "1.0.0",
       "_view_name": "OutputView",
       "layout": "IPY_MODEL_407240563eb3499fa2ce6a30ff94b60c",
       "msg_id": "",
       "outputs": [],
       "tabbable": null,
       "tooltip": null
      }
     },
     "f89af4210d54472992886bd974229857": {
      "model_module": "@jupyter-widgets/controls",
      "model_module_version": "2.0.0",
      "model_name": "FloatTextModel",
      "state": {
       "_dom_classes": [],
       "_model_module": "@jupyter-widgets/controls",
       "_model_module_version": "2.0.0",
       "_model_name": "FloatTextModel",
       "_view_count": null,
       "_view_module": "@jupyter-widgets/controls",
       "_view_module_version": "2.0.0",
       "_view_name": "FloatTextView",
       "continuous_update": false,
       "description": "Power 0.1-0.2Hz:",
       "description_allow_html": false,
       "disabled": false,
       "layout": "IPY_MODEL_00617b9ef24546088b1680d347978a2b",
       "step": null,
       "style": "IPY_MODEL_9e7d375222134bfcbe0c169d4444ae38",
       "tabbable": null,
       "tooltip": null,
       "value": 0.0
      }
     }
    },
    "version_major": 2,
    "version_minor": 0
   }
  }
 },
 "nbformat": 4,
 "nbformat_minor": 5
}
