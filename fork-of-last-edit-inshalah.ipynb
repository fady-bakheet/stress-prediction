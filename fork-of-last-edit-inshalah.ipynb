{
 "cells": [
  {
   "cell_type": "markdown",
   "id": "7a68eda8",
   "metadata": {
    "papermill": {
     "duration": 0.005494,
     "end_time": "2025-05-09T21:18:57.430596",
     "exception": false,
     "start_time": "2025-05-09T21:18:57.425102",
     "status": "completed"
    },
    "tags": []
   },
   "source": [
    "# Import necessary libraries and define configurations"
   ]
  },
  {
   "cell_type": "code",
   "execution_count": 1,
   "id": "14e4d624",
   "metadata": {
    "execution": {
     "iopub.execute_input": "2025-05-09T21:18:57.442344Z",
     "iopub.status.busy": "2025-05-09T21:18:57.441938Z",
     "iopub.status.idle": "2025-05-09T21:19:00.938457Z",
     "shell.execute_reply": "2025-05-09T21:19:00.937337Z"
    },
    "papermill": {
     "duration": 3.504305,
     "end_time": "2025-05-09T21:19:00.940376",
     "exception": false,
     "start_time": "2025-05-09T21:18:57.436071",
     "status": "completed"
    },
    "tags": []
   },
   "outputs": [],
   "source": [
    "\n",
    "import os\n",
    "import pickle\n",
    "import numpy as np\n",
    "import pandas as pd\n",
    "from scipy.signal import butter, filtfilt, welch\n",
    "from scipy.stats import skew, kurtosis\n",
    "from sklearn.model_selection import train_test_split\n",
    "from sklearn.ensemble import RandomForestClassifier\n",
    "from sklearn.metrics import classification_report, accuracy_score, confusion_matrix, log_loss\n",
    "from imblearn.over_sampling import SMOTE\n",
    "from sklearn.preprocessing import StandardScaler\n",
    "import matplotlib.pyplot as plt\n",
    "import ipywidgets as widgets\n",
    "from IPython.display import display, HTML\n",
    "\n",
    "# Configurations\n",
    "DATASET_DIR = \"/kaggle/input/wesad-full-dataset/WESAD/\"  # Adjust path\n",
    "TEST_SIZE = 0.3  # 70:30 split\n",
    "WINDOW_SIZE = 80  # 10 seconds at 4Hz (EDA sampling rate)\n",
    "FILTER_CUTOFF = 0.1  # Low-pass filter cutoff frequency\n",
    "OVERLAB = 40\n",
    "MAX_TREES = 100  # Maximum number of trees for loss curve\n",
    "OUTPUT_DIR = \"/kaggle/working/outputs\"  # Output directory for saved figures"
   ]
  },
  {
   "cell_type": "markdown",
   "id": "75d6fadf",
   "metadata": {
    "papermill": {
     "duration": 0.004374,
     "end_time": "2025-05-09T21:19:00.949659",
     "exception": false,
     "start_time": "2025-05-09T21:19:00.945285",
     "status": "completed"
    },
    "tags": []
   },
   "source": [
    "# Define helper functions for filtering and feature extraction"
   ]
  },
  {
   "cell_type": "code",
   "execution_count": 2,
   "id": "e058a9eb",
   "metadata": {
    "execution": {
     "iopub.execute_input": "2025-05-09T21:19:00.960511Z",
     "iopub.status.busy": "2025-05-09T21:19:00.959930Z",
     "iopub.status.idle": "2025-05-09T21:19:00.967377Z",
     "shell.execute_reply": "2025-05-09T21:19:00.966060Z"
    },
    "papermill": {
     "duration": 0.014969,
     "end_time": "2025-05-09T21:19:00.969243",
     "exception": false,
     "start_time": "2025-05-09T21:19:00.954274",
     "status": "completed"
    },
    "tags": []
   },
   "outputs": [],
   "source": [
    "\n",
    "def low_pass_filter(signal, cutoff=FILTER_CUTOFF, fs=4, order=4):\n",
    "    nyquist = 0.5 * fs\n",
    "    normal_cutoff = cutoff / nyquist\n",
    "    b, a = butter(order, normal_cutoff, btype='low', analog=False)\n",
    "    return filtfilt(b, a, signal)\n",
    "\n",
    "def extract_features(gsr_signal):\n",
    "    gsr_signal = np.squeeze(gsr_signal)\n",
    "    filtered_signal = low_pass_filter(gsr_signal)\n",
    "    \n",
    "    # Time-domain features\n",
    "    mean_val = np.mean(filtered_signal)\n",
    "    std_dev = np.std(filtered_signal)\n",
    "    min_val = np.min(filtered_signal)\n",
    "    max_val = np.max(filtered_signal)\n",
    "    skewness = skew(filtered_signal)\n",
    "    kurt = kurtosis(filtered_signal)\n",
    "    \n",
    "    # Frequency-domain features\n",
    "    freqs, psd = welch(filtered_signal, fs=4, nperseg=min(256, len(filtered_signal)))\n",
    "    dominant_freq = freqs[np.argmax(psd)]\n",
    "    total_power = np.sum(psd)\n",
    "    \n",
    "    return [mean_val, std_dev, min_val, max_val, skewness, kurt, dominant_freq, total_power]"
   ]
  },
  {
   "cell_type": "markdown",
   "id": "186271ce",
   "metadata": {
    "papermill": {
     "duration": 0.004217,
     "end_time": "2025-05-09T21:19:00.978233",
     "exception": false,
     "start_time": "2025-05-09T21:19:00.974016",
     "status": "completed"
    },
    "tags": []
   },
   "source": [
    "\n",
    "# Load and preprocess the WESAD dataset\n"
   ]
  },
  {
   "cell_type": "code",
   "execution_count": 3,
   "id": "979a2a55",
   "metadata": {
    "execution": {
     "iopub.execute_input": "2025-05-09T21:19:00.988604Z",
     "iopub.status.busy": "2025-05-09T21:19:00.988209Z",
     "iopub.status.idle": "2025-05-09T21:22:08.785352Z",
     "shell.execute_reply": "2025-05-09T21:22:08.784173Z"
    },
    "papermill": {
     "duration": 187.80906,
     "end_time": "2025-05-09T21:22:08.791827",
     "exception": false,
     "start_time": "2025-05-09T21:19:00.982767",
     "status": "completed"
    },
    "tags": []
   },
   "outputs": [
    {
     "name": "stdout",
     "output_type": "stream",
     "text": [
      "Loading subject: S14\n",
      "Loading subject: S11\n",
      "Loading subject: S13\n",
      "Loading subject: S10\n",
      "Loading subject: S8\n",
      "Loading subject: S5\n",
      "Loading subject: S7\n",
      "Loading subject: S9\n",
      "Loading subject: S15\n",
      "Loading subject: S2\n",
      "Loading subject: S6\n",
      "Loading subject: S3\n",
      "Loading subject: S4\n",
      "Loading subject: S16\n",
      "Loading subject: S17\n",
      "Average EDA Signal Value: 1.8018\n"
     ]
    }
   ],
   "source": [
    "\n",
    "def load_and_preprocess_data():\n",
    "    all_subjects_data = []\n",
    "    stress_count = 0\n",
    "    non_stress_count = 0\n",
    "    all_eda_values = []\n",
    "\n",
    "    for subject in os.listdir(DATASET_DIR):\n",
    "        subject_path = os.path.join(DATASET_DIR, subject, f\"{subject}.pkl\")\n",
    "        if os.path.exists(subject_path):\n",
    "            print(f\"Loading subject: {subject}\")  # Added line to define loading subject\n",
    "            with open(subject_path, 'rb') as file:\n",
    "                data = pickle.load(file, encoding='latin1')\n",
    "\n",
    "            signal_data = data['signal']['wrist']\n",
    "            labels = data['label']\n",
    "\n",
    "            gsr_signal = signal_data['EDA']\n",
    "            all_eda_values.extend(gsr_signal.flatten())\n",
    "\n",
    "            window_stride = 20\n",
    "            for i in range(0, len(gsr_signal) - window_stride, window_stride):\n",
    "                label = labels[i]\n",
    "                if label == 1:\n",
    "                    stress_count += 1\n",
    "                else:\n",
    "                    non_stress_count += 1\n",
    "\n",
    "                features = extract_features(gsr_signal[i:i + window_stride])\n",
    "                all_subjects_data.append({\n",
    "                    'Features': features,\n",
    "                    'Label': label\n",
    "                })\n",
    "\n",
    "    average_eda = np.mean(all_eda_values)\n",
    "    print(f\"Average EDA Signal Value: {average_eda:.4f}\")\n",
    "\n",
    "    return all_subjects_data, stress_count, non_stress_count\n",
    "\n",
    "data_list, stress_count, non_stress_count = load_and_preprocess_data()"
   ]
  },
  {
   "cell_type": "markdown",
   "id": "c73c1848",
   "metadata": {
    "papermill": {
     "duration": 0.00521,
     "end_time": "2025-05-09T21:22:08.802846",
     "exception": false,
     "start_time": "2025-05-09T21:22:08.797636",
     "status": "completed"
    },
    "tags": []
   },
   "source": [
    "# Convert data to DataFrame, normalize features, apply SMOTE, and split into train/test sets"
   ]
  },
  {
   "cell_type": "code",
   "execution_count": 4,
   "id": "c467af7f",
   "metadata": {
    "execution": {
     "iopub.execute_input": "2025-05-09T21:22:08.815589Z",
     "iopub.status.busy": "2025-05-09T21:22:08.815222Z",
     "iopub.status.idle": "2025-05-09T21:22:09.040875Z",
     "shell.execute_reply": "2025-05-09T21:22:09.039993Z"
    },
    "papermill": {
     "duration": 0.234617,
     "end_time": "2025-05-09T21:22:09.042915",
     "exception": false,
     "start_time": "2025-05-09T21:22:08.808298",
     "status": "completed"
    },
    "tags": []
   },
   "outputs": [],
   "source": [
    "\n",
    "df = pd.DataFrame([x['Features'] for x in data_list])\n",
    "df['Label'] = [x['Label'] for x in data_list]\n",
    "df.dropna(inplace=True)\n",
    "\n",
    "# Rename columns for clarity\n",
    "df.columns = ['Mean_GSR', 'Std_Dev_GSR', 'Min_GSR', 'Max_GSR', 'Skewness', 'Kurtosis', 'Dominant_Frequency', 'Total_Power', 'Label']\n",
    "\n",
    "# Normalize features\n",
    "scaler = StandardScaler()\n",
    "X = scaler.fit_transform(df.drop(columns=['Label']))\n",
    "y = df['Label']\n",
    "\n",
    "# Balance Data (SMOTE)\n",
    "smote = SMOTE(random_state=42)\n",
    "X, y = smote.fit_resample(X, y)\n",
    "\n",
    "# Train-Test Split\n",
    "X_train, X_test, y_train, y_test = train_test_split(X, y, test_size=TEST_SIZE, random_state=42, stratify=y)"
   ]
  },
  {
   "cell_type": "markdown",
   "id": "310de5ac",
   "metadata": {
    "papermill": {
     "duration": 0.005186,
     "end_time": "2025-05-09T21:22:09.053655",
     "exception": false,
     "start_time": "2025-05-09T21:22:09.048469",
     "status": "completed"
    },
    "tags": []
   },
   "source": [
    "# Train the Random Forest model and calculate loss curves"
   ]
  },
  {
   "cell_type": "code",
   "execution_count": 5,
   "id": "f12eede6",
   "metadata": {
    "execution": {
     "iopub.execute_input": "2025-05-09T21:22:09.065735Z",
     "iopub.status.busy": "2025-05-09T21:22:09.065398Z",
     "iopub.status.idle": "2025-05-09T21:25:10.065193Z",
     "shell.execute_reply": "2025-05-09T21:25:10.063974Z"
    },
    "papermill": {
     "duration": 181.008544,
     "end_time": "2025-05-09T21:25:10.067542",
     "exception": false,
     "start_time": "2025-05-09T21:22:09.058998",
     "status": "completed"
    },
    "tags": []
   },
   "outputs": [],
   "source": [
    "\n",
    "train_losses = []\n",
    "test_losses = []\n",
    "n_estimators_range = range(1, MAX_TREES + 1, 1)  # Evaluate every tree for smoother curve\n",
    "\n",
    "for n_estimators in n_estimators_range:\n",
    "    model = RandomForestClassifier(n_estimators=n_estimators, max_depth=10, class_weight='balanced', random_state=42)\n",
    "    model.fit(X_train, y_train)\n",
    "    \n",
    "    # Calculate log loss for training and test sets\n",
    "    train_proba = model.predict_proba(X_train)\n",
    "    test_proba = model.predict_proba(X_test)\n",
    "    train_loss = log_loss(y_train, train_proba)\n",
    "    test_loss = log_loss(y_test, test_proba)\n",
    "    \n",
    "    train_losses.append(train_loss)\n",
    "    test_losses.append(test_loss)\n",
    "\n",
    "# Final Model Training\n",
    "model = RandomForestClassifier(n_estimators=MAX_TREES, max_depth=10, class_weight='balanced', random_state=42)\n",
    "model.fit(X_train, y_train)\n",
    "\n",
    "# Predictions\n",
    "y_train_pred = model.predict(X_train)\n",
    "y_test_pred = model.predict(X_test)\n",
    "\n",
    "# Create output directory if it doesn't exist\n",
    "os.makedirs(OUTPUT_DIR, exist_ok=True)"
   ]
  },
  {
   "cell_type": "markdown",
   "id": "500654db",
   "metadata": {
    "papermill": {
     "duration": 0.005164,
     "end_time": "2025-05-09T21:25:10.078934",
     "exception": false,
     "start_time": "2025-05-09T21:25:10.073770",
     "status": "completed"
    },
    "tags": []
   },
   "source": [
    "# Print initial evaluation metrics"
   ]
  },
  {
   "cell_type": "code",
   "execution_count": 6,
   "id": "c48b05da",
   "metadata": {
    "execution": {
     "iopub.execute_input": "2025-05-09T21:25:10.092111Z",
     "iopub.status.busy": "2025-05-09T21:25:10.091644Z",
     "iopub.status.idle": "2025-05-09T21:25:10.097631Z",
     "shell.execute_reply": "2025-05-09T21:25:10.096550Z"
    },
    "papermill": {
     "duration": 0.014973,
     "end_time": "2025-05-09T21:25:10.099397",
     "exception": false,
     "start_time": "2025-05-09T21:25:10.084424",
     "status": "completed"
    },
    "tags": []
   },
   "outputs": [
    {
     "name": "stdout",
     "output_type": "stream",
     "text": [
      "\n",
      "1. Stress Samples After Windowing: 192\n",
      "2. Non-Stress Samples After Windowing: 17174\n"
     ]
    }
   ],
   "source": [
    "\n",
    "# 1. Stress Samples\n",
    "print(\"\\n1. Stress Samples After Windowing:\", stress_count)\n",
    "\n",
    "# 2. Non-Stress Samples\n",
    "print(\"2. Non-Stress Samples After Windowing:\", non_stress_count)"
   ]
  },
  {
   "cell_type": "markdown",
   "id": "6157a8b0",
   "metadata": {
    "papermill": {
     "duration": 0.005347,
     "end_time": "2025-05-09T21:25:10.110454",
     "exception": false,
     "start_time": "2025-05-09T21:25:10.105107",
     "status": "completed"
    },
    "tags": []
   },
   "source": [
    "# Plot EDA Signal Before and After Filtering"
   ]
  },
  {
   "cell_type": "code",
   "execution_count": 7,
   "id": "2bb48606",
   "metadata": {
    "execution": {
     "iopub.execute_input": "2025-05-09T21:25:10.122886Z",
     "iopub.status.busy": "2025-05-09T21:25:10.122442Z",
     "iopub.status.idle": "2025-05-09T21:25:19.573280Z",
     "shell.execute_reply": "2025-05-09T21:25:19.572051Z"
    },
    "papermill": {
     "duration": 9.459424,
     "end_time": "2025-05-09T21:25:19.575410",
     "exception": false,
     "start_time": "2025-05-09T21:25:10.115986",
     "status": "completed"
    },
    "tags": []
   },
   "outputs": [
    {
     "name": "stdout",
     "output_type": "stream",
     "text": [
      "\n",
      "Plotting EDA Signal Before and After Filtering (Plot 1/6):\n"
     ]
    },
    {
     "data": {
      "image/png": "[encoded data removed]",
      "text/plain": [
       "<Figure size 1000x600 with 1 Axes>"
      ]
     },
     "metadata": {},
     "output_type": "display_data"
    },
    {
     "name": "stdout",
     "output_type": "stream",
     "text": [
      "Saved EDA Signal Plot to /kaggle/working/outputs/eda_signal.png\n"
     ]
    }
   ],
   "source": [
    "\n",
    "print(\"\\nPlotting EDA Signal Before and After Filtering (Plot 1/6):\")\n",
    "# Use the first window's signal from the first subject for plotting\n",
    "first_subject = os.listdir(DATASET_DIR)[0]\n",
    "first_path = os.path.join(DATASET_DIR, first_subject, f\"{first_subject}.pkl\")\n",
    "with open(first_path, 'rb') as file:\n",
    "    data = pickle.load(file, encoding='latin1')\n",
    "gsr_signal = data['signal']['wrist']['EDA']\n",
    "raw_signal = np.squeeze(gsr_signal[:WINDOW_SIZE])\n",
    "filtered_signal = low_pass_filter(raw_signal)\n",
    "time = np.arange(0, len(raw_signal)) / 4  # Time in seconds (4Hz sampling rate)\n",
    "\n",
    "plt.figure(figsize=(10, 6))\n",
    "plt.plot(time, raw_signal, label='Raw EDA Signal', color='blue')\n",
    "plt.plot(time, filtered_signal, label='Filtered EDA Signal', color='orange')\n",
    "plt.title('EDA Signal Before and After Low-Pass Filtering')\n",
    "plt.xlabel('Time (seconds)')\n",
    "plt.ylabel('EDA (µS)')\n",
    "plt.grid(True)\n",
    "plt.legend()\n",
    "plt.savefig(os.path.join(OUTPUT_DIR, 'eda_signal.png'))\n",
    "plt.show()\n",
    "plt.close()\n",
    "print(f\"Saved EDA Signal Plot to {os.path.join(OUTPUT_DIR, 'eda_signal.png')}\")"
   ]
  },
  {
   "cell_type": "markdown",
   "id": "3947ba10",
   "metadata": {
    "papermill": {
     "duration": 0.00642,
     "end_time": "2025-05-09T21:25:19.589295",
     "exception": false,
     "start_time": "2025-05-09T21:25:19.582875",
     "status": "completed"
    },
    "tags": []
   },
   "source": [
    "# Plot Class Distribution Before and After SMOTE"
   ]
  },
  {
   "cell_type": "code",
   "execution_count": 8,
   "id": "0cf1991b",
   "metadata": {
    "execution": {
     "iopub.execute_input": "2025-05-09T21:25:19.603750Z",
     "iopub.status.busy": "2025-05-09T21:25:19.603376Z",
     "iopub.status.idle": "2025-05-09T21:25:20.133460Z",
     "shell.execute_reply": "2025-05-09T21:25:20.132352Z"
    },
    "papermill": {
     "duration": 0.539421,
     "end_time": "2025-05-09T21:25:20.135279",
     "exception": false,
     "start_time": "2025-05-09T21:25:19.595858",
     "status": "completed"
    },
    "tags": []
   },
   "outputs": [
    {
     "name": "stdout",
     "output_type": "stream",
     "text": [
      "\n",
      "Plotting Class Distribution Before and After SMOTE (Plot 2/6):\n"
     ]
    },
    {
     "data": {
      "image/png": "[encoded data removed]",
      "text/plain": [
       "<Figure size 1000x500 with 2 Axes>"
      ]
     },
     "metadata": {},
     "output_type": "display_data"
    },
    {
     "name": "stdout",
     "output_type": "stream",
     "text": [
      "Saved Class Distribution Plot to /kaggle/working/outputs/class_distribution.png\n"
     ]
    }
   ],
   "source": [
    "\n",
    "print(\"\\nPlotting Class Distribution Before and After SMOTE (Plot 2/6):\")\n",
    "fig, (ax1, ax2) = plt.subplots(1, 2, figsize=(10, 5))\n",
    "\n",
    "# Before SMOTE\n",
    "non_stress_before = len(df[df['Label'] == 0])\n",
    "stress_before = len(df[df['Label'] == 1])\n",
    "ax1.bar(['Non-Stress (0)', 'Stress (1)'], [non_stress_before, stress_before], color=['blue', 'orange'])\n",
    "ax1.set_title('Class Distribution Before SMOTE')\n",
    "ax1.set_ylabel('Number of Samples')\n",
    "for i, v in enumerate([non_stress_before, stress_before]):\n",
    "    ax1.text(i, v + 50, str(v), ha='center', va='bottom')\n",
    "\n",
    "# After SMOTE\n",
    "non_stress_after = len(y[y == 0])\n",
    "stress_after = len(y[y == 1])\n",
    "ax2.bar(['Non-Stress (0)', 'Stress (1)'], [non_stress_after, stress_after], color=['blue', 'orange'])\n",
    "ax2.set_title('Class Distribution After SMOTE')\n",
    "ax2.set_ylabel('Number of Samples')\n",
    "for i, v in enumerate([non_stress_after, stress_after]):\n",
    "    ax2.text(i, v + 50, str(v), ha='center', va='bottom')\n",
    "\n",
    "plt.tight_layout()\n",
    "plt.savefig(os.path.join(OUTPUT_DIR, 'class_distribution.png'))\n",
    "plt.show()\n",
    "plt.close()\n",
    "print(f\"Saved Class Distribution Plot to {os.path.join(OUTPUT_DIR, 'class_distribution.png')}\")"
   ]
  },
  {
   "cell_type": "markdown",
   "id": "43dc6641",
   "metadata": {
    "papermill": {
     "duration": 0.007156,
     "end_time": "2025-05-09T21:25:20.149977",
     "exception": false,
     "start_time": "2025-05-09T21:25:20.142821",
     "status": "completed"
    },
    "tags": []
   },
   "source": [
    "#  Confusion Matrix \n",
    "#  Plot Loss Curve"
   ]
  },
  {
   "cell_type": "code",
   "execution_count": 9,
   "id": "1ed444d8",
   "metadata": {
    "execution": {
     "iopub.execute_input": "2025-05-09T21:25:20.166051Z",
     "iopub.status.busy": "2025-05-09T21:25:20.165631Z",
     "iopub.status.idle": "2025-05-09T21:25:20.976197Z",
     "shell.execute_reply": "2025-05-09T21:25:20.975127Z"
    },
    "papermill": {
     "duration": 0.820605,
     "end_time": "2025-05-09T21:25:20.977921",
     "exception": false,
     "start_time": "2025-05-09T21:25:20.157316",
     "status": "completed"
    },
    "tags": []
   },
   "outputs": [
    {
     "name": "stdout",
     "output_type": "stream",
     "text": [
      "\n",
      "3. Training Accuracy: 0.9664\n",
      "4. Test Accuracy: 0.9647\n",
      "\n",
      "5. Classification Report:\n",
      "              precision    recall  f1-score   support\n",
      "\n",
      "           0       1.00      0.93      0.96      5153\n",
      "           1       0.93      1.00      0.97      5152\n",
      "\n",
      "    accuracy                           0.96     10305\n",
      "   macro avg       0.97      0.96      0.96     10305\n",
      "weighted avg       0.97      0.96      0.96     10305\n",
      "\n",
      "\n",
      "6. Confusion Matrix:\n",
      " [[4790  363]\n",
      " [   1 5151]]\n",
      "\n",
      "7. Displaying Confusion Matrix Plot (Plot 3/6):\n"
     ]
    },
    {
     "data": {
      "image/png": "[encoded data removed]",
      "text/plain": [
       "<Figure size 500x400 with 2 Axes>"
      ]
     },
     "metadata": {},
     "output_type": "display_data"
    },
    {
     "name": "stdout",
     "output_type": "stream",
     "text": [
      "\n",
      "8. Displaying Loss Curve Plot (Plot 4/6):\n"
     ]
    },
    {
     "data": {
      "image/png": "[encoded data removed]",
      "text/plain": [
       "<Figure size 1000x600 with 1 Axes>"
      ]
     },
     "metadata": {},
     "output_type": "display_data"
    }
   ],
   "source": [
    "# 3. Training Accuracy\n",
    "train_accuracy = accuracy_score(y_train, y_train_pred)\n",
    "print(f\"\\n3. Training Accuracy: {train_accuracy:.4f}\")\n",
    "\n",
    "# 4. Test Accuracy\n",
    "test_accuracy = accuracy_score(y_test, y_test_pred)\n",
    "print(f\"4. Test Accuracy: {test_accuracy:.4f}\")\n",
    "\n",
    "# 5. Classification Report\n",
    "print(\"\\n5. Classification Report:\")\n",
    "print(classification_report(y_test, y_test_pred))\n",
    "\n",
    "# 6. Confusion Matrix\n",
    "conf_matrix = confusion_matrix(y_test, y_test_pred)\n",
    "print(\"\\n6. Confusion Matrix:\\n\", conf_matrix)\n",
    "\n",
    "# 7. Plot Confusion Matrix\n",
    "print(\"\\n7. Displaying Confusion Matrix Plot (Plot 3/6):\")\n",
    "plt.figure(figsize=(5, 4))\n",
    "plt.imshow(conf_matrix, interpolation='nearest', cmap=plt.cm.Blues)\n",
    "plt.colorbar()\n",
    "for i in range(conf_matrix.shape[0]):\n",
    "    for j in range(conf_matrix.shape[1]):\n",
    "        if i == 0 and j == 0:\n",
    "            plt.text(j, i, f'TN: {conf_matrix[i, j]}', ha='center', va='center', color='white' if conf_matrix[i, j] > conf_matrix.max() / 2 else 'black')\n",
    "        elif i == 0 and j == 1:\n",
    "            plt.text(j, i, f'FP: {conf_matrix[i, j]}', ha='center', va='center', color='white' if conf_matrix[i, j] > conf_matrix.max() / 2 else 'black')\n",
    "        elif i == 1 and j == 0:\n",
    "            plt.text(j, i, f'FN: {conf_matrix[i, j]}', ha='center', va='center', color='white' if conf_matrix[i, j] > conf_matrix.max() / 2 else 'black')\n",
    "        elif i == 1 and j == 1:\n",
    "            plt.text(j, i, f'TP: {conf_matrix[i, j]}', ha='center', va='center', color='white' if conf_matrix[i, j] > conf_matrix.max() / 2 else 'black')\n",
    "plt.xlabel('Predicted Label')\n",
    "plt.ylabel('True Label')\n",
    "plt.title('Confusion Matrix')\n",
    "plt.savefig(os.path.join(OUTPUT_DIR, 'confusion_matrix.png'))\n",
    "plt.show()\n",
    "plt.close()\n",
    "\n",
    "# 8. Plot Loss Curve\n",
    "print(\"\\n8. Displaying Loss Curve Plot (Plot 4/6):\")\n",
    "plt.figure(figsize=(10, 6))\n",
    "plt.plot(n_estimators_range, train_losses, label='Training Loss', color='blue', linewidth=2)\n",
    "plt.plot(n_estimators_range, test_losses, label='Test Loss', color='orange', linewidth=2)\n",
    "plt.title('Training vs Test Loss Curve', fontsize=14)\n",
    "plt.xlabel('Number of Trees', fontsize=12)\n",
    "plt.ylabel('Log Loss', fontsize=12)\n",
    "plt.grid(True)\n",
    "plt.legend(fontsize=12)\n",
    "plt.savefig(os.path.join(OUTPUT_DIR, 'loss_curve.png'))\n",
    "plt.show()\n",
    "plt.close()"
   ]
  },
  {
   "cell_type": "markdown",
   "id": "3f255f49",
   "metadata": {
    "papermill": {
     "duration": 0.008824,
     "end_time": "2025-05-09T21:25:20.996316",
     "exception": false,
     "start_time": "2025-05-09T21:25:20.987492",
     "status": "completed"
    },
    "tags": []
   },
   "source": [
    "#  Loss Analysis and \n",
    "#  Feature Statistics for Stressed and Non-Stressed Samples"
   ]
  },
  {
   "cell_type": "code",
   "execution_count": 10,
   "id": "d4b125eb",
   "metadata": {
    "execution": {
     "iopub.execute_input": "2025-05-09T21:25:21.015730Z",
     "iopub.status.busy": "2025-05-09T21:25:21.015350Z",
     "iopub.status.idle": "2025-05-09T21:25:21.076140Z",
     "shell.execute_reply": "2025-05-09T21:25:21.074697Z"
    },
    "papermill": {
     "duration": 0.072778,
     "end_time": "2025-05-09T21:25:21.078043",
     "exception": false,
     "start_time": "2025-05-09T21:25:21.005265",
     "status": "completed"
    },
    "tags": []
   },
   "outputs": [
    {
     "name": "stdout",
     "output_type": "stream",
     "text": [
      "\n",
      "9. Loss Analysis:\n",
      "The model shows good generalization. The training loss curve is consistently below the test loss curve, but the gap is not too large, indicating minimal overfitting.\n",
      "\n",
      "10. Feature Statistics for Stressed Samples (Label = 1):\n",
      "         Mean_GSR  Std_Dev_GSR     Min_GSR     Max_GSR    Skewness  \\\n",
      "count  192.000000   192.000000  192.000000  192.000000  192.000000   \n",
      "mean     0.317407     0.001485    0.315275    0.319981    0.168960   \n",
      "std      0.019006     0.004046    0.017196    0.023113    0.635790   \n",
      "min      0.286820     0.000011    0.286003    0.286898   -1.459116   \n",
      "25%      0.310293     0.000270    0.308624    0.311382   -0.301582   \n",
      "50%      0.314479     0.000503    0.313695    0.314982    0.252095   \n",
      "75%      0.319100     0.000998    0.317959    0.320105    0.620159   \n",
      "max      0.412155     0.036461    0.370275    0.482683    1.406140   \n",
      "\n",
      "         Kurtosis  Dominant_Frequency   Total_Power  Label  \n",
      "count  192.000000        1.920000e+02  1.920000e+02  192.0  \n",
      "mean    -0.877720        2.000000e-01  2.663440e-05    1.0  \n",
      "std      0.516102        2.782814e-17  1.875715e-04    0.0  \n",
      "min     -1.541050        2.000000e-01  1.757915e-10    1.0  \n",
      "25%     -1.220914        2.000000e-01  1.115361e-07    1.0  \n",
      "50%     -1.059319        2.000000e-01  3.770661e-07    1.0  \n",
      "75%     -0.683544        2.000000e-01  1.499082e-06    1.0  \n",
      "max      1.158859        2.000000e-01  1.918169e-03    1.0  \n",
      "\n",
      "Feature Statistics for Non-Stressed Samples (Label = 0):\n",
      "           Mean_GSR   Std_Dev_GSR       Min_GSR       Max_GSR      Skewness  \\\n",
      "count  17174.000000  1.717400e+04  17174.000000  17174.000000  17174.000000   \n",
      "mean       1.818529  1.133243e-02      1.800508      1.836485      0.092055   \n",
      "std        2.350787  3.117224e-02      2.329677      2.372767      0.551670   \n",
      "min        0.077354  3.460996e-07      0.049241      0.082873     -2.288212   \n",
      "25%        0.343186  7.110633e-04      0.340158      0.346272     -0.357301   \n",
      "50%        0.859518  2.233968e-03      0.847236      0.866410      0.245865   \n",
      "75%        2.430819  8.381382e-03      2.397307      2.453749      0.453811   \n",
      "max       15.773553  7.148265e-01     15.745953     15.864790      1.779448   \n",
      "\n",
      "           Kurtosis  Dominant_Frequency   Total_Power    Label  \n",
      "count  17174.000000        17174.000000  1.717400e+04  17174.0  \n",
      "mean      -0.984510            0.200012  1.603110e-03      0.0  \n",
      "std        0.417918            0.001526  1.386293e-02      0.0  \n",
      "min       -1.652399            0.200000  4.386515e-13      0.0  \n",
      "25%       -1.222016            0.200000  7.806888e-07      0.0  \n",
      "50%       -1.114996            0.200000  7.579179e-06      0.0  \n",
      "75%       -0.928974            0.200000  1.064741e-04      0.0  \n",
      "max        5.183942            0.400000  7.336959e-01      0.0  \n"
     ]
    }
   ],
   "source": [
    "\n",
    "final_train_loss = train_losses[-1]\n",
    "final_test_loss = test_losses[-1]\n",
    "print(\"\\n9. Loss Analysis:\")\n",
    "if final_train_loss < final_test_loss and (final_test_loss - final_train_loss) < 0.5:\n",
    "    print(\"The model shows good generalization. The training loss curve is consistently below the test loss curve, but the gap is not too large, indicating minimal overfitting.\")\n",
    "elif final_train_loss < final_test_loss and (final_test_loss - final_train_loss) >= 0.5:\n",
    "    print(\"The model may be overfitting. The training loss curve is significantly lower than the test loss curve, suggesting the model fits the training data too closely.\")\n",
    "else:\n",
    "    print(\"The model shows unusual behavior. The test loss curve is below the training loss curve, which is uncommon and may indicate issues with the data split or model configuration.\")\n",
    "\n",
    "\n",
    "stressed_df = df[df['Label'] == 1]\n",
    "non_stressed_df = df[df['Label'] == 0]\n",
    "print(\"\\n10. Feature Statistics for Stressed Samples (Label = 1):\")\n",
    "print(stressed_df.describe())\n",
    "print(\"\\nFeature Statistics for Non-Stressed Samples (Label = 0):\")\n",
    "print(non_stressed_df.describe())"
   ]
  },
  {
   "cell_type": "markdown",
   "id": "f08e3f3c",
   "metadata": {
    "papermill": {
     "duration": 0.009132,
     "end_time": "2025-05-09T21:25:21.096454",
     "exception": false,
     "start_time": "2025-05-09T21:25:21.087322",
     "status": "completed"
    },
    "tags": []
   },
   "source": [
    "#  GUI for Stress Prediction"
   ]
  },
  {
   "cell_type": "code",
   "execution_count": 11,
   "id": "a00768e6",
   "metadata": {
    "execution": {
     "iopub.execute_input": "2025-05-09T21:25:21.116769Z",
     "iopub.status.busy": "2025-05-09T21:25:21.116395Z",
     "iopub.status.idle": "2025-05-09T21:25:21.170486Z",
     "shell.execute_reply": "2025-05-09T21:25:21.169177Z"
    },
    "papermill": {
     "duration": 0.067566,
     "end_time": "2025-05-09T21:25:21.173319",
     "exception": false,
     "start_time": "2025-05-09T21:25:21.105753",
     "status": "completed"
    },
    "tags": []
   },
   "outputs": [
    {
     "name": "stdout",
     "output_type": "stream",
     "text": [
      "\n",
      "11. Displaying Stress Prediction GUI (5/6):\n"
     ]
    },
    {
     "data": {
      "text/html": [
       "\n",
       "    <h2 style='color: #2c3e50;'>Stress Prediction GUI</h2>\n",
       "    <p style='color: #34495e;'>Enter the 8 GSR feature values below and click 'Predict Stress' to see the result.</p>\n"
      ],
      "text/plain": [
       "<IPython.core.display.HTML object>"
      ]
     },
     "metadata": {},
     "output_type": "display_data"
    },
    {
     "data": {
      "application/vnd.jupyter.widget-view+json": {
       "model_id": "3ff65da64b604e46b99a0c4b74e9ec0d",
       "version_major": 2,
       "version_minor": 0
      },
      "text/plain": [
       "FloatText(value=0.0, description='Mean GSR:', layout=Layout(width='400px'), style=DescriptionStyle(description…"
      ]
     },
     "metadata": {},
     "output_type": "display_data"
    },
    {
     "data": {
      "application/vnd.jupyter.widget-view+json": {
       "model_id": "3e72a76627d047c1be35758709f34f0f",
       "version_major": 2,
       "version_minor": 0
      },
      "text/plain": [
       "FloatText(value=0.0, description='Std Dev GSR:', layout=Layout(width='400px'), style=DescriptionStyle(descript…"
      ]
     },
     "metadata": {},
     "output_type": "display_data"
    },
    {
     "data": {
      "application/vnd.jupyter.widget-view+json": {
       "model_id": "28d4cffb69834187b4fc9b2bbdf2e393",
       "version_major": 2,
       "version_minor": 0
      },
      "text/plain": [
       "FloatText(value=0.0, description='Min GSR:', layout=Layout(width='400px'), style=DescriptionStyle(description_…"
      ]
     },
     "metadata": {},
     "output_type": "display_data"
    },
    {
     "data": {
      "application/vnd.jupyter.widget-view+json": {
       "model_id": "090a18b7d9964b51bed092d2b576bd8c",
       "version_major": 2,
       "version_minor": 0
      },
      "text/plain": [
       "FloatText(value=0.0, description='Max GSR:', layout=Layout(width='400px'), style=DescriptionStyle(description_…"
      ]
     },
     "metadata": {},
     "output_type": "display_data"
    },
    {
     "data": {
      "application/vnd.jupyter.widget-view+json": {
       "model_id": "0101b1a3f69c45bca44dce428620c332",
       "version_major": 2,
       "version_minor": 0
      },
      "text/plain": [
       "FloatText(value=0.0, description='Skewness:', layout=Layout(width='400px'), style=DescriptionStyle(description…"
      ]
     },
     "metadata": {},
     "output_type": "display_data"
    },
    {
     "data": {
      "application/vnd.jupyter.widget-view+json": {
       "model_id": "829b92035cba43eaa0c838c364144748",
       "version_major": 2,
       "version_minor": 0
      },
      "text/plain": [
       "FloatText(value=0.0, description='Kurtosis:', layout=Layout(width='400px'), style=DescriptionStyle(description…"
      ]
     },
     "metadata": {},
     "output_type": "display_data"
    },
    {
     "data": {
      "application/vnd.jupyter.widget-view+json": {
       "model_id": "b29169d464494da7a59c764cf9dcce30",
       "version_major": 2,
       "version_minor": 0
      },
      "text/plain": [
       "FloatText(value=0.0, description='Dominant Frequency:', layout=Layout(width='400px'), style=DescriptionStyle(d…"
      ]
     },
     "metadata": {},
     "output_type": "display_data"
    },
    {
     "data": {
      "application/vnd.jupyter.widget-view+json": {
       "model_id": "a642f9abde84420e9ed7b6c8d66915c6",
       "version_major": 2,
       "version_minor": 0
      },
      "text/plain": [
       "FloatText(value=0.0, description='Total Power:', layout=Layout(width='400px'), style=DescriptionStyle(descript…"
      ]
     },
     "metadata": {},
     "output_type": "display_data"
    },
    {
     "data": {
      "application/vnd.jupyter.widget-view+json": {
       "model_id": "ca9097401f3445ae95f7b82e05a09c40",
       "version_major": 2,
       "version_minor": 0
      },
      "text/plain": [
       "Button(button_style='success', description='Predict Stress', layout=Layout(margin='10px 0', width='200px'), st…"
      ]
     },
     "metadata": {},
     "output_type": "display_data"
    },
    {
     "data": {
      "application/vnd.jupyter.widget-view+json": {
       "model_id": "c8e145e2daf8488d8502914eed8e0a8f",
       "version_major": 2,
       "version_minor": 0
      },
      "text/plain": [
       "Output()"
      ]
     },
     "metadata": {},
     "output_type": "display_data"
    }
   ],
   "source": [
    "\n",
    "feature_names = [\n",
    "    \"Mean GSR\", \"Std Dev GSR\", \"Min GSR\", \"Max GSR\", \n",
    "    \"Skewness\", \"Kurtosis\", \"Dominant Frequency\", \"Total Power\"\n",
    "]\n",
    "\n",
    "# Create input widgets for the 8 feature values\n",
    "input_widgets = [widgets.FloatText(\n",
    "    description=name + \":\", \n",
    "    value=0.0, \n",
    "    style={'description_width': 'initial'},\n",
    "    layout={'width': '400px'}\n",
    ") for name in feature_names]\n",
    "\n",
    "# Create a button to trigger prediction\n",
    "predict_button = widgets.Button(\n",
    "    description=\"Predict Stress\",\n",
    "    button_style='success',\n",
    "    tooltip='Click to predict stress level',\n",
    "    layout={'width': '200px', 'margin': '10px 0'}\n",
    ")\n",
    "\n",
    "# Create an output widget to display the result\n",
    "output = widgets.Output()\n",
    "\n",
    "# Define the prediction function\n",
    "def on_predict_button_clicked(b):\n",
    "    with output:\n",
    "        output.clear_output()\n",
    "        # Collect input values\n",
    "        input_values = []\n",
    "        for widget in input_widgets:\n",
    "            try:\n",
    "                value = float(widget.value)\n",
    "                input_values.append(value)\n",
    "            except ValueError:\n",
    "                display(HTML(f\"<p style='color: #e74c3c;'>Invalid input for {widget.description}. Please enter a valid number.</p>\"))\n",
    "                return\n",
    "        \n",
    "        # Create a DataFrame with feature names to match training\n",
    "        features = pd.DataFrame([input_values], columns=[0, 1, 2, 3, 4, 5, 6, 7])\n",
    "        \n",
    "        try:\n",
    "            # Scale the features\n",
    "            scaled_features = scaler.transform(features)\n",
    "            # Make prediction\n",
    "            prediction = model.predict(scaled_features)[0]\n",
    "            probability = model.predict_proba(scaled_features)[0]\n",
    "            \n",
    "            # Determine result and confidence\n",
    "            result = \"Stressed\" if prediction == 1 else \"Not Stressed\"\n",
    "            confidence = probability[1] if prediction == 1 else probability[0]\n",
    "            \n",
    "            # Display styled result\n",
    "            color = \"#e74c3c\" if prediction == 1 else \"#2ecc71\"\n",
    "            display(HTML(f\"\"\"\n",
    "                <div style='background-color: #f5f5f5; padding: 15px; border-radius: 5px;'>\n",
    "                    <h3 style='color: {color}; margin: 0;'>Prediction: {result}</h3>\n",
    "                    <p style='color: #333; margin: 5px 0 0 0;'>Confidence: {confidence:.2%}</p>\n",
    "                </div>\n",
    "            \"\"\"))\n",
    "        except Exception as e:\n",
    "            display(HTML(f\"<p style='color: #e74c3c;'>Error in prediction: {str(e)}</p>\"))\n",
    "\n",
    "# Connect the button to the prediction function\n",
    "predict_button.on_click(on_predict_button_clicked)\n",
    "\n",
    "# Display the GUI\n",
    "print(\"\\n11. Displaying Stress Prediction GUI (5/6):\")\n",
    "display(HTML(\"\"\"\n",
    "    <h2 style='color: #2c3e50;'>Stress Prediction GUI</h2>\n",
    "    <p style='color: #34495e;'>Enter the 8 GSR feature values below and click 'Predict Stress' to see the result.</p>\n",
    "\"\"\"))\n",
    "for widget in input_widgets:\n",
    "    display(widget)\n",
    "display(predict_button)\n",
    "display(output)"
   ]
  }
 ],
 "metadata": {
  "kaggle": {
   "accelerator": "none",
   "dataSources": [
    {
     "datasetId": 6775341,
     "sourceId": 11631688,
     "sourceType": "datasetVersion"
    }
   ],
   "dockerImageVersionId": 30918,
   "isGpuEnabled": false,
   "isInternetEnabled": true,
   "language": "python",
   "sourceType": "notebook"
  },
  "kernelspec": {
   "display_name": "Python 3",
   "language": "python",
   "name": "python3"
  },
  "language_info": {
   "codemirror_mode": {
    "name": "ipython",
    "version": 3
   },
   "file_extension": ".py",
   "mimetype": "text/x-python",
   "name": "python",
   "nbconvert_exporter": "python",
   "pygments_lexer": "ipython3",
   "version": "3.10.12"
  },
  "papermill": {
   "default_parameters": {},
   "duration": 388.137116,
   "end_time": "2025-05-09T21:25:22.109376",
   "environment_variables": {},
   "exception": null,
   "input_path": "__notebook__.ipynb",
   "output_path": "__notebook__.ipynb",
   "parameters": {},
   "start_time": "2025-05-09T21:18:53.972260",
   "version": "2.6.0"
  },
  "widgets": {
   "application/vnd.jupyter.widget-state+json": {
    "state": {
     "0101b1a3f69c45bca44dce428620c332": {
      "model_module": "@jupyter-widgets/controls",
      "model_module_version": "2.0.0",
      "model_name": "FloatTextModel",
      "state": {
       "_dom_classes": [],
       "_model_module": "@jupyter-widgets/controls",
       "_model_module_version": "2.0.0",
       "_model_name": "FloatTextModel",
       "_view_count": null,
       "_view_module": "@jupyter-widgets/controls",
       "_view_module_version": "2.0.0",
       "_view_name": "FloatTextView",
       "continuous_update": false,
       "description": "Skewness:",
       "description_allow_html": false,
       "disabled": false,
       "layout": "IPY_MODEL_eb43a673e5174ecfa6cdf0ebe91eb1c8",
       "step": null,
       "style": "IPY_MODEL_7ca9e6c6956c4de1a09078059413fb7a",
       "tabbable": null,
       "tooltip": null,
       "value": 0.0
      }
     },
     "090a18b7d9964b51bed092d2b576bd8c": {
      "model_module": "@jupyter-widgets/controls",
      "model_module_version": "2.0.0",
      "model_name": "FloatTextModel",
      "state": {
       "_dom_classes": [],
       "_model_module": "@jupyter-widgets/controls",
       "_model_module_version": "2.0.0",
       "_model_name": "FloatTextModel",
       "_view_count": null,
       "_view_module": "@jupyter-widgets/controls",
       "_view_module_version": "2.0.0",
       "_view_name": "FloatTextView",
       "continuous_update": false,
       "description": "Max GSR:",
       "description_allow_html": false,
       "disabled": false,
       "layout": "IPY_MODEL_443701ad558e4c8985c78e3031d60e31",
       "step": null,
       "style": "IPY_MODEL_e05252ccee2e4fa59f4d608bfdd7faa8",
       "tabbable": null,
       "tooltip": null,
       "value": 0.0
      }
     },
     "138883625d6749c3a9889c9aa7b47211": {
      "model_module": "@jupyter-widgets/controls",
      "model_module_version": "2.0.0",
      "model_name": "DescriptionStyleModel",
      "state": {
       "_model_module": "@jupyter-widgets/controls",
       "_model_module_version": "2.0.0",
       "_model_name": "DescriptionStyleModel",
       "_view_count": null,
       "_view_module": "@jupyter-widgets/base",
       "_view_module_version": "2.0.0",
       "_view_name": "StyleView",
       "description_width": "initial"
      }
     },
     "14555e30974a4a5c8917a8af3640ff1b": {
      "model_module": "@jupyter-widgets/controls",
      "model_module_version": "2.0.0",
      "model_name": "DescriptionStyleModel",
      "state": {
       "_model_module": "@jupyter-widgets/controls",
       "_model_module_version": "2.0.0",
       "_model_name": "DescriptionStyleModel",
       "_view_count": null,
       "_view_module": "@jupyter-widgets/base",
       "_view_module_version": "2.0.0",
       "_view_name": "StyleView",
       "description_width": "initial"
      }
     },
     "14929cfcd6824eeb893ccdddf042391a": {
      "model_module": "@jupyter-widgets/base",
      "model_module_version": "2.0.0",
      "model_name": "LayoutModel",
      "state": {
       "_model_module": "@jupyter-widgets/base",
       "_model_module_version": "2.0.0",
       "_model_name": "LayoutModel",
       "_view_count": null,
       "_view_module": "@jupyter-widgets/base",
       "_view_module_version": "2.0.0",
       "_view_name": "LayoutView",
       "align_content": null,
       "align_items": null,
       "align_self": null,
       "border_bottom": null,
       "border_left": null,
       "border_right": null,
       "border_top": null,
       "bottom": null,
       "display": null,
       "flex": null,
       "flex_flow": null,
       "grid_area": null,
       "grid_auto_columns": null,
       "grid_auto_flow": null,
       "grid_auto_rows": null,
       "grid_column": null,
       "grid_gap": null,
       "grid_row": null,
       "grid_template_areas": null,
       "grid_template_columns": null,
       "grid_template_rows": null,
       "height": null,
       "justify_content": null,
       "justify_items": null,
       "left": null,
       "margin": null,
       "max_height": null,
       "max_width": null,
       "min_height": null,
       "min_width": null,
       "object_fit": null,
       "object_position": null,
       "order": null,
       "overflow": null,
       "padding": null,
       "right": null,
       "top": null,
       "visibility": null,
       "width": null
      }
     },
     "1c950c6573ca421e9e76a2ae3079d0cc": {
      "model_module": "@jupyter-widgets/base",
      "model_module_version": "2.0.0",
      "model_name": "LayoutModel",
      "state": {
       "_model_module": "@jupyter-widgets/base",
       "_model_module_version": "2.0.0",
       "_model_name": "LayoutModel",
       "_view_count": null,
       "_view_module": "@jupyter-widgets/base",
       "_view_module_version": "2.0.0",
       "_view_name": "LayoutView",
       "align_content": null,
       "align_items": null,
       "align_self": null,
       "border_bottom": null,
       "border_left": null,
       "border_right": null,
       "border_top": null,
       "bottom": null,
       "display": null,
       "flex": null,
       "flex_flow": null,
       "grid_area": null,
       "grid_auto_columns": null,
       "grid_auto_flow": null,
       "grid_auto_rows": null,
       "grid_column": null,
       "grid_gap": null,
       "grid_row": null,
       "grid_template_areas": null,
       "grid_template_columns": null,
       "grid_template_rows": null,
       "height": null,
       "justify_content": null,
       "justify_items": null,
       "left": null,
       "margin": null,
       "max_height": null,
       "max_width": null,
       "min_height": null,
       "min_width": null,
       "object_fit": null,
       "object_position": null,
       "order": null,
       "overflow": null,
       "padding": null,
       "right": null,
       "top": null,
       "visibility": null,
       "width": "400px"
      }
     },
     "1f5306ed7b084a9fb17c994b8d1c8869": {
      "model_module": "@jupyter-widgets/controls",
      "model_module_version": "2.0.0",
      "model_name": "DescriptionStyleModel",
      "state": {
       "_model_module": "@jupyter-widgets/controls",
       "_model_module_version": "2.0.0",
       "_model_name": "DescriptionStyleModel",
       "_view_count": null,
       "_view_module": "@jupyter-widgets/base",
       "_view_module_version": "2.0.0",
       "_view_name": "StyleView",
       "description_width": "initial"
      }
     },
     "21706a41e3e543bca718b24e9bd5bdee": {
      "model_module": "@jupyter-widgets/base",
      "model_module_version": "2.0.0",
      "model_name": "LayoutModel",
      "state": {
       "_model_module": "@jupyter-widgets/base",
       "_model_module_version": "2.0.0",
       "_model_name": "LayoutModel",
       "_view_count": null,
       "_view_module": "@jupyter-widgets/base",
       "_view_module_version": "2.0.0",
       "_view_name": "LayoutView",
       "align_content": null,
       "align_items": null,
       "align_self": null,
       "border_bottom": null,
       "border_left": null,
       "border_right": null,
       "border_top": null,
       "bottom": null,
       "display": null,
       "flex": null,
       "flex_flow": null,
       "grid_area": null,
       "grid_auto_columns": null,
       "grid_auto_flow": null,
       "grid_auto_rows": null,
       "grid_column": null,
       "grid_gap": null,
       "grid_row": null,
       "grid_template_areas": null,
       "grid_template_columns": null,
       "grid_template_rows": null,
       "height": null,
       "justify_content": null,
       "justify_items": null,
       "left": null,
       "margin": null,
       "max_height": null,
       "max_width": null,
       "min_height": null,
       "min_width": null,
       "object_fit": null,
       "object_position": null,
       "order": null,
       "overflow": null,
       "padding": null,
       "right": null,
       "top": null,
       "visibility": null,
       "width": "400px"
      }
     },
     "28d4cffb69834187b4fc9b2bbdf2e393": {
      "model_module": "@jupyter-widgets/controls",
      "model_module_version": "2.0.0",
      "model_name": "FloatTextModel",
      "state": {
       "_dom_classes": [],
       "_model_module": "@jupyter-widgets/controls",
       "_model_module_version": "2.0.0",
       "_model_name": "FloatTextModel",
       "_view_count": null,
       "_view_module": "@jupyter-widgets/controls",
       "_view_module_version": "2.0.0",
       "_view_name": "FloatTextView",
       "continuous_update": false,
       "description": "Min GSR:",
       "description_allow_html": false,
       "disabled": false,
       "layout": "IPY_MODEL_1c950c6573ca421e9e76a2ae3079d0cc",
       "step": null,
       "style": "IPY_MODEL_d344e1f7721348a0b48570f7fc21d467",
       "tabbable": null,
       "tooltip": null,
       "value": 0.0
      }
     },
     "3e72a76627d047c1be35758709f34f0f": {
      "model_module": "@jupyter-widgets/controls",
      "model_module_version": "2.0.0",
      "model_name": "FloatTextModel",
      "state": {
       "_dom_classes": [],
       "_model_module": "@jupyter-widgets/controls",
       "_model_module_version": "2.0.0",
       "_model_name": "FloatTextModel",
       "_view_count": null,
       "_view_module": "@jupyter-widgets/controls",
       "_view_module_version": "2.0.0",
       "_view_name": "FloatTextView",
       "continuous_update": false,
       "description": "Std Dev GSR:",
       "description_allow_html": false,
       "disabled": false,
       "layout": "IPY_MODEL_5d70663c6916410ab6709d7e9eaa4a65",
       "step": null,
       "style": "IPY_MODEL_1f5306ed7b084a9fb17c994b8d1c8869",
       "tabbable": null,
       "tooltip": null,
       "value": 0.0
      }
     },
     "3ff65da64b604e46b99a0c4b74e9ec0d": {
      "model_module": "@jupyter-widgets/controls",
      "model_module_version": "2.0.0",
      "model_name": "FloatTextModel",
      "state": {
       "_dom_classes": [],
       "_model_module": "@jupyter-widgets/controls",
       "_model_module_version": "2.0.0",
       "_model_name": "FloatTextModel",
       "_view_count": null,
       "_view_module": "@jupyter-widgets/controls",
       "_view_module_version": "2.0.0",
       "_view_name": "FloatTextView",
       "continuous_update": false,
       "description": "Mean GSR:",
       "description_allow_html": false,
       "disabled": false,
       "layout": "IPY_MODEL_9014e1058113421097ceed5282a97320",
       "step": null,
       "style": "IPY_MODEL_6abd951598074ac6847d6a097a120314",
       "tabbable": null,
       "tooltip": null,
       "value": 0.0
      }
     },
     "443701ad558e4c8985c78e3031d60e31": {
      "model_module": "@jupyter-widgets/base",
      "model_module_version": "2.0.0",
      "model_name": "LayoutModel",
      "state": {
       "_model_module": "@jupyter-widgets/base",
       "_model_module_version": "2.0.0",
       "_model_name": "LayoutModel",
       "_view_count": null,
       "_view_module": "@jupyter-widgets/base",
       "_view_module_version": "2.0.0",
       "_view_name": "LayoutView",
       "align_content": null,
       "align_items": null,
       "align_self": null,
       "border_bottom": null,
       "border_left": null,
       "border_right": null,
       "border_top": null,
       "bottom": null,
       "display": null,
       "flex": null,
       "flex_flow": null,
       "grid_area": null,
       "grid_auto_columns": null,
       "grid_auto_flow": null,
       "grid_auto_rows": null,
       "grid_column": null,
       "grid_gap": null,
       "grid_row": null,
       "grid_template_areas": null,
       "grid_template_columns": null,
       "grid_template_rows": null,
       "height": null,
       "justify_content": null,
       "justify_items": null,
       "left": null,
       "margin": null,
       "max_height": null,
       "max_width": null,
       "min_height": null,
       "min_width": null,
       "object_fit": null,
       "object_position": null,
       "order": null,
       "overflow": null,
       "padding": null,
       "right": null,
       "top": null,
       "visibility": null,
       "width": "400px"
      }
     },
     "51f1b0dd1a89443fab69b3ef803841bc": {
      "model_module": "@jupyter-widgets/base",
      "model_module_version": "2.0.0",
      "model_name": "LayoutModel",
      "state": {
       "_model_module": "@jupyter-widgets/base",
       "_model_module_version": "2.0.0",
       "_model_name": "LayoutModel",
       "_view_count": null,
       "_view_module": "@jupyter-widgets/base",
       "_view_module_version": "2.0.0",
       "_view_name": "LayoutView",
       "align_content": null,
       "align_items": null,
       "align_self": null,
       "border_bottom": null,
       "border_left": null,
       "border_right": null,
       "border_top": null,
       "bottom": null,
       "display": null,
       "flex": null,
       "flex_flow": null,
       "grid_area": null,
       "grid_auto_columns": null,
       "grid_auto_flow": null,
       "grid_auto_rows": null,
       "grid_column": null,
       "grid_gap": null,
       "grid_row": null,
       "grid_template_areas": null,
       "grid_template_columns": null,
       "grid_template_rows": null,
       "height": null,
       "justify_content": null,
       "justify_items": null,
       "left": null,
       "margin": null,
       "max_height": null,
       "max_width": null,
       "min_height": null,
       "min_width": null,
       "object_fit": null,
       "object_position": null,
       "order": null,
       "overflow": null,
       "padding": null,
       "right": null,
       "top": null,
       "visibility": null,
       "width": "400px"
      }
     },
     "5d70663c6916410ab6709d7e9eaa4a65": {
      "model_module": "@jupyter-widgets/base",
      "model_module_version": "2.0.0",
      "model_name": "LayoutModel",
      "state": {
       "_model_module": "@jupyter-widgets/base",
       "_model_module_version": "2.0.0",
       "_model_name": "LayoutModel",
       "_view_count": null,
       "_view_module": "@jupyter-widgets/base",
       "_view_module_version": "2.0.0",
       "_view_name": "LayoutView",
       "align_content": null,
       "align_items": null,
       "align_self": null,
       "border_bottom": null,
       "border_left": null,
       "border_right": null,
       "border_top": null,
       "bottom": null,
       "display": null,
       "flex": null,
       "flex_flow": null,
       "grid_area": null,
       "grid_auto_columns": null,
       "grid_auto_flow": null,
       "grid_auto_rows": null,
       "grid_column": null,
       "grid_gap": null,
       "grid_row": null,
       "grid_template_areas": null,
       "grid_template_columns": null,
       "grid_template_rows": null,
       "height": null,
       "justify_content": null,
       "justify_items": null,
       "left": null,
       "margin": null,
       "max_height": null,
       "max_width": null,
       "min_height": null,
       "min_width": null,
       "object_fit": null,
       "object_position": null,
       "order": null,
       "overflow": null,
       "padding": null,
       "right": null,
       "top": null,
       "visibility": null,
       "width": "400px"
      }
     },
     "5eec40a627b64c1f9433adb23bdcacf2": {
      "model_module": "@jupyter-widgets/controls",
      "model_module_version": "2.0.0",
      "model_name": "ButtonStyleModel",
      "state": {
       "_model_module": "@jupyter-widgets/controls",
       "_model_module_version": "2.0.0",
       "_model_name": "ButtonStyleModel",
       "_view_count": null,
       "_view_module": "@jupyter-widgets/base",
       "_view_module_version": "2.0.0",
       "_view_name": "StyleView",
       "button_color": null,
       "font_family": null,
       "font_size": null,
       "font_style": null,
       "font_variant": null,
       "font_weight": null,
       "text_color": null,
       "text_decoration": null
      }
     },
     "61854e66fb374986b1ae2674bb6d4168": {
      "model_module": "@jupyter-widgets/base",
      "model_module_version": "2.0.0",
      "model_name": "LayoutModel",
      "state": {
       "_model_module": "@jupyter-widgets/base",
       "_model_module_version": "2.0.0",
       "_model_name": "LayoutModel",
       "_view_count": null,
       "_view_module": "@jupyter-widgets/base",
       "_view_module_version": "2.0.0",
       "_view_name": "LayoutView",
       "align_content": null,
       "align_items": null,
       "align_self": null,
       "border_bottom": null,
       "border_left": null,
       "border_right": null,
       "border_top": null,
       "bottom": null,
       "display": null,
       "flex": null,
       "flex_flow": null,
       "grid_area": null,
       "grid_auto_columns": null,
       "grid_auto_flow": null,
       "grid_auto_rows": null,
       "grid_column": null,
       "grid_gap": null,
       "grid_row": null,
       "grid_template_areas": null,
       "grid_template_columns": null,
       "grid_template_rows": null,
       "height": null,
       "justify_content": null,
       "justify_items": null,
       "left": null,
       "margin": "10px 0",
       "max_height": null,
       "max_width": null,
       "min_height": null,
       "min_width": null,
       "object_fit": null,
       "object_position": null,
       "order": null,
       "overflow": null,
       "padding": null,
       "right": null,
       "top": null,
       "visibility": null,
       "width": "200px"
      }
     },
     "6abd951598074ac6847d6a097a120314": {
      "model_module": "@jupyter-widgets/controls",
      "model_module_version": "2.0.0",
      "model_name": "DescriptionStyleModel",
      "state": {
       "_model_module": "@jupyter-widgets/controls",
       "_model_module_version": "2.0.0",
       "_model_name": "DescriptionStyleModel",
       "_view_count": null,
       "_view_module": "@jupyter-widgets/base",
       "_view_module_version": "2.0.0",
       "_view_name": "StyleView",
       "description_width": "initial"
      }
     },
     "7ca9e6c6956c4de1a09078059413fb7a": {
      "model_module": "@jupyter-widgets/controls",
      "model_module_version": "2.0.0",
      "model_name": "DescriptionStyleModel",
      "state": {
       "_model_module": "@jupyter-widgets/controls",
       "_model_module_version": "2.0.0",
       "_model_name": "DescriptionStyleModel",
       "_view_count": null,
       "_view_module": "@jupyter-widgets/base",
       "_view_module_version": "2.0.0",
       "_view_name": "StyleView",
       "description_width": "initial"
      }
     },
     "829b92035cba43eaa0c838c364144748": {
      "model_module": "@jupyter-widgets/controls",
      "model_module_version": "2.0.0",
      "model_name": "FloatTextModel",
      "state": {
       "_dom_classes": [],
       "_model_module": "@jupyter-widgets/controls",
       "_model_module_version": "2.0.0",
       "_model_name": "FloatTextModel",
       "_view_count": null,
       "_view_module": "@jupyter-widgets/controls",
       "_view_module_version": "2.0.0",
       "_view_name": "FloatTextView",
       "continuous_update": false,
       "description": "Kurtosis:",
       "description_allow_html": false,
       "disabled": false,
       "layout": "IPY_MODEL_51f1b0dd1a89443fab69b3ef803841bc",
       "step": null,
       "style": "IPY_MODEL_90e08f4be1d14f54a6387260c0c17d29",
       "tabbable": null,
       "tooltip": null,
       "value": 0.0
      }
     },
     "9014e1058113421097ceed5282a97320": {
      "model_module": "@jupyter-widgets/base",
      "model_module_version": "2.0.0",
      "model_name": "LayoutModel",
      "state": {
       "_model_module": "@jupyter-widgets/base",
       "_model_module_version": "2.0.0",
       "_model_name": "LayoutModel",
       "_view_count": null,
       "_view_module": "@jupyter-widgets/base",
       "_view_module_version": "2.0.0",
       "_view_name": "LayoutView",
       "align_content": null,
       "align_items": null,
       "align_self": null,
       "border_bottom": null,
       "border_left": null,
       "border_right": null,
       "border_top": null,
       "bottom": null,
       "display": null,
       "flex": null,
       "flex_flow": null,
       "grid_area": null,
       "grid_auto_columns": null,
       "grid_auto_flow": null,
       "grid_auto_rows": null,
       "grid_column": null,
       "grid_gap": null,
       "grid_row": null,
       "grid_template_areas": null,
       "grid_template_columns": null,
       "grid_template_rows": null,
       "height": null,
       "justify_content": null,
       "justify_items": null,
       "left": null,
       "margin": null,
       "max_height": null,
       "max_width": null,
       "min_height": null,
       "min_width": null,
       "object_fit": null,
       "object_position": null,
       "order": null,
       "overflow": null,
       "padding": null,
       "right": null,
       "top": null,
       "visibility": null,
       "width": "400px"
      }
     },
     "90e08f4be1d14f54a6387260c0c17d29": {
      "model_module": "@jupyter-widgets/controls",
      "model_module_version": "2.0.0",
      "model_name": "DescriptionStyleModel",
      "state": {
       "_model_module": "@jupyter-widgets/controls",
       "_model_module_version": "2.0.0",
       "_model_name": "DescriptionStyleModel",
       "_view_count": null,
       "_view_module": "@jupyter-widgets/base",
       "_view_module_version": "2.0.0",
       "_view_name": "StyleView",
       "description_width": "initial"
      }
     },
     "a642f9abde84420e9ed7b6c8d66915c6": {
      "model_module": "@jupyter-widgets/controls",
      "model_module_version": "2.0.0",
      "model_name": "FloatTextModel",
      "state": {
       "_dom_classes": [],
       "_model_module": "@jupyter-widgets/controls",
       "_model_module_version": "2.0.0",
       "_model_name": "FloatTextModel",
       "_view_count": null,
       "_view_module": "@jupyter-widgets/controls",
       "_view_module_version": "2.0.0",
       "_view_name": "FloatTextView",
       "continuous_update": false,
       "description": "Total Power:",
       "description_allow_html": false,
       "disabled": false,
       "layout": "IPY_MODEL_21706a41e3e543bca718b24e9bd5bdee",
       "step": null,
       "style": "IPY_MODEL_14555e30974a4a5c8917a8af3640ff1b",
       "tabbable": null,
       "tooltip": null,
       "value": 0.0
      }
     },
     "b29169d464494da7a59c764cf9dcce30": {
      "model_module": "@jupyter-widgets/controls",
      "model_module_version": "2.0.0",
      "model_name": "FloatTextModel",
      "state": {
       "_dom_classes": [],
       "_model_module": "@jupyter-widgets/controls",
       "_model_module_version": "2.0.0",
       "_model_name": "FloatTextModel",
       "_view_count": null,
       "_view_module": "@jupyter-widgets/controls",
       "_view_module_version": "2.0.0",
       "_view_name": "FloatTextView",
       "continuous_update": false,
       "description": "Dominant Frequency:",
       "description_allow_html": false,
       "disabled": false,
       "layout": "IPY_MODEL_b7dc87f2903e42ca996f9cf8e9893950",
       "step": null,
       "style": "IPY_MODEL_138883625d6749c3a9889c9aa7b47211",
       "tabbable": null,
       "tooltip": null,
       "value": 0.0
      }
     },
     "b7dc87f2903e42ca996f9cf8e9893950": {
      "model_module": "@jupyter-widgets/base",
      "model_module_version": "2.0.0",
      "model_name": "LayoutModel",
      "state": {
       "_model_module": "@jupyter-widgets/base",
       "_model_module_version": "2.0.0",
       "_model_name": "LayoutModel",
       "_view_count": null,
       "_view_module": "@jupyter-widgets/base",
       "_view_module_version": "2.0.0",
       "_view_name": "LayoutView",
       "align_content": null,
       "align_items": null,
       "align_self": null,
       "border_bottom": null,
       "border_left": null,
       "border_right": null,
       "border_top": null,
       "bottom": null,
       "display": null,
       "flex": null,
       "flex_flow": null,
       "grid_area": null,
       "grid_auto_columns": null,
       "grid_auto_flow": null,
       "grid_auto_rows": null,
       "grid_column": null,
       "grid_gap": null,
       "grid_row": null,
       "grid_template_areas": null,
       "grid_template_columns": null,
       "grid_template_rows": null,
       "height": null,
       "justify_content": null,
       "justify_items": null,
       "left": null,
       "margin": null,
       "max_height": null,
       "max_width": null,
       "min_height": null,
       "min_width": null,
       "object_fit": null,
       "object_position": null,
       "order": null,
       "overflow": null,
       "padding": null,
       "right": null,
       "top": null,
       "visibility": null,
       "width": "400px"
      }
     },
     "c8e145e2daf8488d8502914eed8e0a8f": {
      "model_module": "@jupyter-widgets/output",
      "model_module_version": "1.0.0",
      "model_name": "OutputModel",
      "state": {
       "_dom_classes": [],
       "_model_module": "@jupyter-widgets/output",
       "_model_module_version": "1.0.0",
       "_model_name": "OutputModel",
       "_view_count": null,
       "_view_module": "@jupyter-widgets/output",
       "_view_module_version": "1.0.0",
       "_view_name": "OutputView",
       "layout": "IPY_MODEL_14929cfcd6824eeb893ccdddf042391a",
       "msg_id": "",
       "outputs": [],
       "tabbable": null,
       "tooltip": null
      }
     },
     "ca9097401f3445ae95f7b82e05a09c40": {
      "model_module": "@jupyter-widgets/controls",
      "model_module_version": "2.0.0",
      "model_name": "ButtonModel",
      "state": {
       "_dom_classes": [],
       "_model_module": "@jupyter-widgets/controls",
       "_model_module_version": "2.0.0",
       "_model_name": "ButtonModel",
       "_view_count": null,
       "_view_module": "@jupyter-widgets/controls",
       "_view_module_version": "2.0.0",
       "_view_name": "ButtonView",
       "button_style": "success",
       "description": "Predict Stress",
       "disabled": false,
       "icon": "",
       "layout": "IPY_MODEL_61854e66fb374986b1ae2674bb6d4168",
       "style": "IPY_MODEL_5eec40a627b64c1f9433adb23bdcacf2",
       "tabbable": null,
       "tooltip": "Click to predict stress level"
      }
     },
     "d344e1f7721348a0b48570f7fc21d467": {
      "model_module": "@jupyter-widgets/controls",
      "model_module_version": "2.0.0",
      "model_name": "DescriptionStyleModel",
      "state": {
       "_model_module": "@jupyter-widgets/controls",
       "_model_module_version": "2.0.0",
       "_model_name": "DescriptionStyleModel",
       "_view_count": null,
       "_view_module": "@jupyter-widgets/base",
       "_view_module_version": "2.0.0",
       "_view_name": "StyleView",
       "description_width": "initial"
      }
     },
     "e05252ccee2e4fa59f4d608bfdd7faa8": {
      "model_module": "@jupyter-widgets/controls",
      "model_module_version": "2.0.0",
      "model_name": "DescriptionStyleModel",
      "state": {
       "_model_module": "@jupyter-widgets/controls",
       "_model_module_version": "2.0.0",
       "_model_name": "DescriptionStyleModel",
       "_view_count": null,
       "_view_module": "@jupyter-widgets/base",
       "_view_module_version": "2.0.0",
       "_view_name": "StyleView",
       "description_width": "initial"
      }
     },
     "eb43a673e5174ecfa6cdf0ebe91eb1c8": {
      "model_module": "@jupyter-widgets/base",
      "model_module_version": "2.0.0",
      "model_name": "LayoutModel",
      "state": {
       "_model_module": "@jupyter-widgets/base",
       "_model_module_version": "2.0.0",
       "_model_name": "LayoutModel",
       "_view_count": null,
       "_view_module": "@jupyter-widgets/base",
       "_view_module_version": "2.0.0",
       "_view_name": "LayoutView",
       "align_content": null,
       "align_items": null,
       "align_self": null,
       "border_bottom": null,
       "border_left": null,
       "border_right": null,
       "border_top": null,
       "bottom": null,
       "display": null,
       "flex": null,
       "flex_flow": null,
       "grid_area": null,
       "grid_auto_columns": null,
       "grid_auto_flow": null,
       "grid_auto_rows": null,
       "grid_column": null,
       "grid_gap": null,
       "grid_row": null,
       "grid_template_areas": null,
       "grid_template_columns": null,
       "grid_template_rows": null,
       "height": null,
       "justify_content": null,
       "justify_items": null,
       "left": null,
       "margin": null,
       "max_height": null,
       "max_width": null,
       "min_height": null,
       "min_width": null,
       "object_fit": null,
       "object_position": null,
       "order": null,
       "overflow": null,
       "padding": null,
       "right": null,
       "top": null,
       "visibility": null,
       "width": "400px"
      }
     }
    },
    "version_major": 2,
    "version_minor": 0
   }
  }
 },
 "nbformat": 4,
 "nbformat_minor": 5
}
